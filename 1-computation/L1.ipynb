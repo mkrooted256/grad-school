{
 "cells": [
  {
   "cell_type": "markdown",
   "metadata": {},
   "source": [
    "# L1\n",
    "\n",
    "Викладач: Олександр (?) Колодин\n",
    "\n",
    "1 пара на тиждень  \n",
    "година теорії, півгодини на практику  \n",
    "\n",
    "- абсолютна та відносна похибка функції за відомими похибками аргументів\n",
    "    - сума, різниця, добуток, відношення\n",
    "- значущі цифри\n",
    "- вірні значущі цифри\n",
    "    - половина розряду\n",
    "    - $14.537 \\pm 0.04 \\implies (14.497,14.577) \\implies 14.5$\n",
    "    - вірна значуща цифра стала при округленні"
   ]
  },
  {
   "cell_type": "markdown",
   "metadata": {},
   "source": [
    "ex5"
   ]
  },
  {
   "cell_type": "code",
   "execution_count": 1,
   "metadata": {},
   "outputs": [],
   "source": [
    "import numpy as np"
   ]
  },
  {
   "cell_type": "markdown",
   "metadata": {},
   "source": [
    "ex6\n",
    "\n",
    "З фіксованою довжиною мантіси точніше буде додавати *від меншого до більшого*"
   ]
  },
  {
   "cell_type": "code",
   "execution_count": null,
   "metadata": {},
   "outputs": [],
   "source": [
    "# ex5\n"
   ]
  },
  {
   "cell_type": "code",
   "execution_count": null,
   "metadata": {},
   "outputs": [],
   "source": [
    "# L1.ex1\n",
    "a = 3.25"
   ]
  },
  {
   "cell_type": "markdown",
   "metadata": {},
   "source": [
    "домашку скидати в чат групи\n",
    "\n",
    "вказувати прізвище"
   ]
  }
 ],
 "metadata": {
  "kernelspec": {
   "display_name": "sci",
   "language": "python",
   "name": "python3"
  },
  "language_info": {
   "codemirror_mode": {
    "name": "ipython",
    "version": 3
   },
   "file_extension": ".py",
   "mimetype": "text/x-python",
   "name": "python",
   "nbconvert_exporter": "python",
   "pygments_lexer": "ipython3",
   "version": "3.11.0"
  },
  "orig_nbformat": 4
 },
 "nbformat": 4,
 "nbformat_minor": 2
}
