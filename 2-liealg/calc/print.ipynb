{
 "cells": [
  {
   "cell_type": "code",
   "execution_count": 1,
   "metadata": {},
   "outputs": [],
   "source": [
    "import fitz\n",
    "import PIL\n",
    "from PIL import Image"
   ]
  },
  {
   "cell_type": "code",
   "execution_count": 21,
   "metadata": {},
   "outputs": [],
   "source": [
    "doc = fitz.open('hw2.4.pdf')\n",
    "page = doc.load_page(0)\n",
    "pixmap = page.get_pixmap(dpi=150)\n",
    "pixmap.pil_save(\"p1.png\")"
   ]
  },
  {
   "cell_type": "code",
   "execution_count": 22,
   "metadata": {},
   "outputs": [],
   "source": [
    "page = doc.load_page(1)\n",
    "pixmap = page.get_pixmap(dpi=150)\n",
    "pixmap.pil_save(\"p2.png\")"
   ]
  },
  {
   "cell_type": "code",
   "execution_count": 36,
   "metadata": {},
   "outputs": [],
   "source": [
    "in_pdf = fitz.open('../koreshkov_hw2_liealg_v1.pdf')\n",
    "out_pdf = fitz.open()\n",
    "\n",
    "for page in in_pdf:\n",
    "    pix = page.get_pixmap(dpi=200)  # double resolution for better image quality\n",
    "    out_page = out_pdf.new_page(width=page.rect.width, height=page.rect.height)\n",
    "    out_page.insert_image(page.rect, stream=pix.pil_tobytes(format='png', optimize=True))\n",
    "\n",
    "out_pdf.save(\"output.pdf\", deflate=True)"
   ]
  },
  {
   "cell_type": "code",
   "execution_count": null,
   "metadata": {},
   "outputs": [],
   "source": []
  }
 ],
 "metadata": {
  "kernelspec": {
   "display_name": "sci",
   "language": "python",
   "name": "python3"
  },
  "language_info": {
   "codemirror_mode": {
    "name": "ipython",
    "version": 3
   },
   "file_extension": ".py",
   "mimetype": "text/x-python",
   "name": "python",
   "nbconvert_exporter": "python",
   "pygments_lexer": "ipython3",
   "version": "3.11.0"
  }
 },
 "nbformat": 4,
 "nbformat_minor": 2
}
