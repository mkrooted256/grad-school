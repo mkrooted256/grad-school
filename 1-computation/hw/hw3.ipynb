{
 "cells": [
  {
   "cell_type": "code",
   "execution_count": 1,
   "metadata": {},
   "outputs": [],
   "source": [
    "import numpy as np"
   ]
  },
  {
   "cell_type": "markdown",
   "metadata": {},
   "source": [
    "# Практика 3\n",
    "Корешков"
   ]
  },
  {
   "cell_type": "markdown",
   "metadata": {},
   "source": [
    "```\n",
    "\n",
    "Задача#1\n",
    "Знайти розв'язок системи A x =  B методом Гауса, де \n",
    "\n",
    "A = {{-3, -8, 3}, {3, -9, -9}, {2, -5, -1}}; B = {5, 7, 0};\n",
    "A = {{-0.160, 5.603, 8.948}, {-9.494, 1.255, -5.962}, {6.870, -6.467,  2.035}};  B = {9.957, -4.966, 3.032};\n",
    "виконуючи обчислення з п'ятьма значущими цифрами.\n",
    "\n",
    "Задача#2\n",
    "Знайти матрицю обернену до матриці A #1\n",
    "\n",
    "Задача#3\n",
    "Визначити число обумовленості матриці A #1\n",
    "```"
   ]
  },
  {
   "cell_type": "markdown",
   "metadata": {},
   "source": [
    "## Задача 1\n",
    "\n",
    "Спочатку наведу реалізацію метода Гауса з вибором ведучого елемента.  \n",
    "Але я реалізую не функцію розв'язку рівняння за відомою матрицею та вільним членом, а окремо функцію LU-факторизації, і окремо функцію для прямого та зворотнього ходів.\n"
   ]
  },
  {
   "cell_type": "code",
   "execution_count": 4,
   "metadata": {},
   "outputs": [],
   "source": [
    "# UFINISHED!!!\n",
    "\n",
    "# метод гауса для квадратних матриць\n",
    "def gauss(A, D=4):\n",
    "    n = A.shape[0]\n",
    "    if A.shape[0] != A.shape[1]: raise ValueError(\"Matrix A is not square\")\n",
    "    if len(A.shape) != 2: raise ValueError(\"A is not a matrix\")\n",
    "    \n",
    "    # output\n",
    "    L = np.eye(n) # lower triangular\n",
    "    U = A.copy()  # upper triangular\n",
    "    P = np.eye(n) # permutation matrix\n",
    "    \n",
    "    # to store permutations\n",
    "    perm = np.arange(n)\n",
    "    \n",
    "    # offset\n",
    "    ki, kj = 0, 0\n",
    "    \n",
    "    while ki < n-1 and kj < n-1:\n",
    "        # find the largest element in current column below the diagonal\n",
    "        M, absM = 0, 0\n",
    "        Mi, Mj = ki, kj\n",
    "        for i in range(ki,n):\n",
    "            a = np.abs(U[i,kj])\n",
    "            if a > M: \n",
    "                absM, M, Mi, Mj = a, U[i,kj], i, kj\n",
    "        \n",
    "        # we want to permute rows of the matrix in\n",
    "        #   a such way that the largest element becomes the top left\n",
    "        #   corner of not processed elements\n",
    "\n",
    "        # M is the pivot element value\n",
    "\n",
    "        # save permutation\n",
    "        perm[ki], perm[Mi] = perm[Mi], perm[ki] \n",
    "        # permute permutation matrix\n",
    "        P[(ki, Mi)] = P[(Mi, ki)] # exchange rows\n",
    "        \n",
    "        # swap rows\n",
    "        U[(ki, Mi)] = U[(Mi, ki)]\n",
    "        # L[:, (ki, Mi)] = L[:, (Mi, ki)]\n",
    "        # L[(kj, Mj)] = L((Mj, kj))\n",
    "\n",
    "        print(\"swap rows and cols\")\n",
    "        print(P)\n",
    "        print(U)\n",
    "        print(L)\n",
    "        \n",
    "        BR = U[ki:,kj:]\n",
    "        \n",
    "        # divide first row by pivot\n",
    "        BR[0] = (BR[0] / M).round(D) \n",
    "        L[:,]\n",
    "        print(\"normalize\")\n",
    "        print(U)\n",
    "        print(L)\n",
    "        \n",
    "        # substract first row from other rows\n",
    "        BR[1:] -= BR[0] * BR[1:,0].reshape(-1,1)\n",
    "        print(\"subtract\")\n",
    "        print(U)\n",
    "        print(L)\n",
    "        \n",
    "        ki += 1\n",
    "        kj += 1\n",
    "    \n",
    "    L[-1,-1] = np.round(1/U[-1,-1], D)\n",
    "    U[-1,-1] = 1\n",
    "\n",
    "    return U\n",
    "\n",
    "\n",
    "    \n",
    "    \n"
   ]
  },
  {
   "cell_type": "code",
   "execution_count": null,
   "metadata": {},
   "outputs": [],
   "source": []
  },
  {
   "cell_type": "code",
   "execution_count": 3,
   "metadata": {},
   "outputs": [
    {
     "data": {
      "text/plain": [
       "array([[1, 2, 3],\n",
       "       [7, 8, 9],\n",
       "       [4, 5, 6]])"
      ]
     },
     "execution_count": 3,
     "metadata": {},
     "output_type": "execute_result"
    }
   ],
   "source": [
    "A = np.array([[1,2,3],[4,5,6],[7,8,9]])\n",
    "P = np.array([\n",
    "    [1,0,0],\n",
    "    [0,0,1],\n",
    "    [0,1,0]\n",
    "])\n",
    "P @ A"
   ]
  }
 ],
 "metadata": {
  "kernelspec": {
   "display_name": "sci",
   "language": "python",
   "name": "python3"
  },
  "language_info": {
   "codemirror_mode": {
    "name": "ipython",
    "version": 3
   },
   "file_extension": ".py",
   "mimetype": "text/x-python",
   "name": "python",
   "nbconvert_exporter": "python",
   "pygments_lexer": "ipython3",
   "version": "3.11.0"
  },
  "orig_nbformat": 4
 },
 "nbformat": 4,
 "nbformat_minor": 2
}
