{
 "cells": [
  {
   "cell_type": "code",
   "execution_count": 1,
   "metadata": {},
   "outputs": [],
   "source": [
    "import numpy as np\n",
    "import scipy as sp\n",
    "\n",
    "from numpy.linalg import norm\n",
    "\n",
    "import matplotlib.pyplot as plt\n",
    "\n",
    "c = lambda *x: np.array([*x])"
   ]
  },
  {
   "cell_type": "markdown",
   "metadata": {},
   "source": [
    "# ADDLIN. HW2\n",
    "Михайло Корешков"
   ]
  },
  {
   "cell_type": "markdown",
   "metadata": {},
   "source": [
    "## Завдання 1\n",
    "Записати 5 різних прикладів векторних просторів\n",
    "\n",
    "### Приклад 1.\n",
    "$M_{n\\times n}(\\mathbb{Z}_k)$ - простір матриць над скінченним полем. Широко використовується у криптографії.\n",
    "\n",
    "### Приклад 2.\n",
    "$P_n(\\mathbb{Z}_k)$ - простір поліномів над скінченним полем. Широко використовується у криптографії та кодуванні. Мій улюблений приклад застосування це алгоритм чексуми CRC.\n",
    "\n",
    "### Приклад 3.\n",
    "Елементи дотичного до точки простору у многовиді. Доведення того, що цей простір дійсно лінійний, не очевидне.\n",
    "\n"
   ]
  },
  {
   "cell_type": "markdown",
   "metadata": {},
   "source": [
    "---\n",
    "\n",
    "## Завдання 2\n",
    "Чи можуть 5 векторів в одному просторі бути лінійно залежними, а в іншому - лінійно незалежними?\n",
    "\n",
    "Приклад\n",
    "$a = (0.5, 0.5), b = (1,1)$"
   ]
  }
 ],
 "metadata": {
  "kernelspec": {
   "display_name": "sci",
   "language": "python",
   "name": "python3"
  },
  "language_info": {
   "codemirror_mode": {
    "name": "ipython",
    "version": 3
   },
   "file_extension": ".py",
   "mimetype": "text/x-python",
   "name": "python",
   "nbconvert_exporter": "python",
   "pygments_lexer": "ipython3",
   "version": "3.11.0"
  },
  "orig_nbformat": 4
 },
 "nbformat": 4,
 "nbformat_minor": 2
}
