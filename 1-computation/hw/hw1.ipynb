{
 "cells": [
  {
   "cell_type": "code",
   "execution_count": 2,
   "metadata": {},
   "outputs": [],
   "source": [
    "import numpy as np"
   ]
  },
  {
   "cell_type": "markdown",
   "metadata": {},
   "source": [
    "# Практика 1\n",
    "Корешков"
   ]
  },
  {
   "cell_type": "markdown",
   "metadata": {},
   "source": [
    "## Задача 1\n",
    "Заокруглюючи наступні числа до трьох значущих цифр, \n",
    "визначити абсолютну та відносну похибки наближених чисел:\n"
   ]
  },
  {
   "cell_type": "code",
   "execution_count": 3,
   "metadata": {},
   "outputs": [
    {
     "name": "stdout",
     "output_type": "stream",
     "text": [
      "абс похибка: -2.300e-03\n",
      "відн похибка: -7.072e-04\n"
     ]
    }
   ],
   "source": [
    "# 1)\n",
    "a = 3.2523\n",
    "# Залишаємо 3 значущі цифри. Останню збільшуємо на 1 якщо наступна за нею не менша 5\n",
    "a1 = 3.25 # округлено\n",
    "\n",
    "# Обчислення\n",
    "d = a1 - a # абс похибка\n",
    "e = d/a # відн похибка\n",
    "print(f\"абс похибка: {d:.3e}\")\n",
    "print(f\"відн похибка: {e:.3e}\")"
   ]
  },
  {
   "cell_type": "markdown",
   "metadata": {},
   "source": [
    "## Задача 2\n",
    "Визначити кількість вірних цифр в числі x, якщо його\n",
    "відносна похибка\n"
   ]
  },
  {
   "cell_type": "code",
   "execution_count": 4,
   "metadata": {},
   "outputs": [
    {
     "name": "stdout",
     "output_type": "stream",
     "text": [
      "абс похибка: 0.0027981\n",
      "x-d ~ 2.795302; x+d ~ 2.800898\n"
     ]
    }
   ],
   "source": [
    "# 1)\n",
    "x = 2.7981\n",
    "e = 0.001 # відн похибка\n",
    "\n",
    "# обчислення\n",
    "d = x * e # абс похибка\n",
    "print(f\"абс похибка: {d}\")\n",
    "print(f\"x-d ~ {x-d:.6f}; x+d ~ {x+d:.6f}\")"
   ]
  },
  {
   "cell_type": "markdown",
   "metadata": {},
   "source": [
    "Абсолютна похибка $0.0028 < 0.005 = \\frac{0.01}{2}$, отже вірним будуть розряди з нульового по $-2$.\n",
    "Маємо 3 вірні цифри. Демонстрація:\n",
    " \n",
    "$x-d \\approx 2.80$  \n",
    "$x+d \\approx 2.80$  \n",
    "але  \n",
    "$x-d \\approx 2.795$  \n",
    "$x+d \\approx 2.801$"
   ]
  },
  {
   "cell_type": "markdown",
   "metadata": {},
   "source": [
    "## Задача 16.1\n",
    "Оцінити абсолютну та відносну похибки обчислення\n",
    "функції\n",
    "$$f(x,y,z) = \\ln \\frac{xy}{z}$$\n",
    "$$x=2.34, \\quad y=1.25, \\quad z=3.05$$\n",
    "$$\\Delta x = 0.01, \\quad \\Delta y = 0.02, \\quad \\Delta z = 0.02$$\n",
    "\n",
    "Маємо пряму задачу. Спочатку обчислюємо часткові похідні $f$ за усіма змінними\n",
    "\n",
    "$$f'_x(x,y,z) = \\left(\\frac{xy}{z}\\right)^{-1} \\cdot \\frac{y}{z} = \\frac{1}{x}$$\n",
    "$$f'_y(x,y,z) = \\left(\\frac{xy}{z}\\right)^{-1} \\cdot \\frac{x}{z} = \\frac{1}{y}$$\n",
    "$$f'_z(x,y,z) = \\left(\\frac{xy}{z}\\right)^{-1} \\cdot (-1)\\cdot\\frac{xy}{z^2} = -\\frac{1}{z}$$\n",
    "\n",
    "Далі припускаємо що похибки значення функції залежать від похибок аргументів наступним чином:\n",
    "$$\\Delta f(\\vec x) = \\sum_{i} f'_{x_i}(\\vec x) \\cdot \\Delta x_i $$ \n",
    "\n",
    "І обчислюємо\n"
   ]
  },
  {
   "cell_type": "code",
   "execution_count": 5,
   "metadata": {},
   "outputs": [
    {
     "name": "stdout",
     "output_type": "stream",
     "text": [
      "df = 0.013716127224323946 ~ 0.01\n",
      "f = -0.04184710993550049  ~ -0.04 +- 0.01\n",
      "relative f error = -0.32777\n"
     ]
    }
   ],
   "source": [
    "x = np.array([2.34,1.25,3.05])\n",
    "dx = np.array([0.01, 0.02, 0.02])\n",
    "df = np.array([1/x[0], 1/x[1], -1/x[2]]).dot(dx)\n",
    "f = np.log(x[0]*x[1]/x[2])\n",
    "print(f\"df = {df} ~ {df:.2f}\")\n",
    "print(f\"f = {f}  ~ {f:.2f} +- {df:.2f}\")\n",
    "\n",
    "rdf = df/f\n",
    "print(f\"relative f error = {rdf:.5f}\")"
   ]
  },
  {
   "cell_type": "markdown",
   "metadata": {},
   "source": [
    "Зауважу, що я округлив абсолютну похибку функції до однієї значущої цифри, бо стільки цифр мали похибки в умові задачі. А далі округлив значення функції до кількості значущих цифр, що відповідає отриманій абсолютній похибці"
   ]
  },
  {
   "cell_type": "markdown",
   "metadata": {},
   "source": []
  }
 ],
 "metadata": {
  "kernelspec": {
   "display_name": "sci",
   "language": "python",
   "name": "python3"
  },
  "language_info": {
   "codemirror_mode": {
    "name": "ipython",
    "version": 3
   },
   "file_extension": ".py",
   "mimetype": "text/x-python",
   "name": "python",
   "nbconvert_exporter": "python",
   "pygments_lexer": "ipython3",
   "version": "3.11.0"
  },
  "orig_nbformat": 4
 },
 "nbformat": 4,
 "nbformat_minor": 2
}
