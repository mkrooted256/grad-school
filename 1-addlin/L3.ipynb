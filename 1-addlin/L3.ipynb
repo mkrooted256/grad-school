{
 "cells": [
  {
   "cell_type": "code",
   "execution_count": 1,
   "metadata": {},
   "outputs": [],
   "source": [
    "import numpy as np\n",
    "import scipy as sp"
   ]
  },
  {
   "cell_type": "code",
   "execution_count": 3,
   "metadata": {},
   "outputs": [],
   "source": [
    "A = np.array([\n",
    "    [1,2,3,4,5],\n",
    "    [1,0,2,3,4],\n",
    "    [2,-2,3,-3,5],\n",
    "    [2,2,5,7,9],\n",
    "])"
   ]
  },
  {
   "cell_type": "code",
   "execution_count": 5,
   "metadata": {},
   "outputs": [
    {
     "data": {
      "text/plain": [
       "array([[3.],\n",
       "       [2.],\n",
       "       [1.],\n",
       "       [5.]])"
      ]
     },
     "execution_count": 5,
     "metadata": {},
     "output_type": "execute_result"
    }
   ],
   "source": [
    "m = A.mean(axis=1, keepdims=True)\n",
    "m"
   ]
  },
  {
   "cell_type": "code",
   "execution_count": 6,
   "metadata": {},
   "outputs": [
    {
     "data": {
      "text/plain": [
       "array([[-2., -1.,  0.,  1.,  2.],\n",
       "       [-1., -2.,  0.,  1.,  2.],\n",
       "       [ 1., -3.,  2., -4.,  4.],\n",
       "       [-3., -3.,  0.,  2.,  4.]])"
      ]
     },
     "execution_count": 6,
     "metadata": {},
     "output_type": "execute_result"
    }
   ],
   "source": [
    "A1 = A-m\n",
    "A1"
   ]
  },
  {
   "cell_type": "code",
   "execution_count": 10,
   "metadata": {},
   "outputs": [
    {
     "data": {
      "text/plain": [
       "array([[-2., -1.,  0.,  1.,  2.],\n",
       "       [-1., -2.,  0.,  1.,  2.],\n",
       "       [ 1., -3.,  2., -4.,  4.],\n",
       "       [-3., -3.,  0.,  2.,  4.],\n",
       "       [ 1.,  1.,  1.,  1.,  1.]])"
      ]
     },
     "execution_count": 10,
     "metadata": {},
     "output_type": "execute_result"
    }
   ],
   "source": [
    "A2 = np.vstack([A1, np.array([1,1,1,1,1])])\n",
    "A2"
   ]
  },
  {
   "cell_type": "code",
   "execution_count": 11,
   "metadata": {},
   "outputs": [
    {
     "data": {
      "text/plain": [
       "3"
      ]
     },
     "execution_count": 11,
     "metadata": {},
     "output_type": "execute_result"
    }
   ],
   "source": [
    "np.linalg.matrix_rank(A1)"
   ]
  },
  {
   "cell_type": "code",
   "execution_count": 12,
   "metadata": {},
   "outputs": [
    {
     "data": {
      "text/plain": [
       "4"
      ]
     },
     "execution_count": 12,
     "metadata": {},
     "output_type": "execute_result"
    }
   ],
   "source": [
    "np.linalg.matrix_rank(A2)"
   ]
  },
  {
   "cell_type": "markdown",
   "metadata": {},
   "source": [
    "**Центрування даних може змінити ранг матриці!**"
   ]
  },
  {
   "cell_type": "markdown",
   "metadata": {},
   "source": [
    "---\n",
    "\n",
    "Пошук перпендикулярних векторів\n",
    "\n",
    "## Базова детермінантна тотожність"
   ]
  },
  {
   "cell_type": "markdown",
   "metadata": {},
   "source": [
    "1. через алг доповнення"
   ]
  },
  {
   "cell_type": "code",
   "execution_count": 42,
   "metadata": {},
   "outputs": [
    {
     "data": {
      "text/plain": [
       "array([[ 0.39790035,  0.04706784,  0.23546001,  0.197155  ,  0.38792204],\n",
       "       [-0.38346634, -0.17951208, -0.11114372, -0.22374939,  0.45615148],\n",
       "       [-0.04671323,  0.07258026,  0.30465878, -0.44530662, -0.12196884]])"
      ]
     },
     "execution_count": 42,
     "metadata": {},
     "output_type": "execute_result"
    }
   ],
   "source": [
    "A = np.random.rand(3,5)-0.5\n",
    "A"
   ]
  },
  {
   "cell_type": "code",
   "execution_count": 43,
   "metadata": {},
   "outputs": [
    {
     "data": {
      "text/plain": [
       "(array([[ 0.39790035,  0.04706784,  0.23546001,  0.197155  ,  0.38792204],\n",
       "        [-0.38346634, -0.17951208, -0.11114372, -0.22374939,  0.45615148],\n",
       "        [-0.04671323,  0.07258026,  0.30465878, -0.44530662, -0.12196884],\n",
       "        [ 0.        , -0.12462326,  0.05036536,  0.02134897, -0.02629997]]),\n",
       " 4)"
      ]
     },
     "execution_count": 43,
     "metadata": {},
     "output_type": "execute_result"
    }
   ],
   "source": [
    "a1 = np.linalg.det(A[:, (1,2,3)]) * (-1)**(4+4)\n",
    "a2 = np.linalg.det(A[:, (1,2,4)]) * (-1)**(4+3)\n",
    "a3 = np.linalg.det(A[:, (1,3,4)]) * (-1)**(4+2)\n",
    "a4 = np.linalg.det(A[:, (2,3,4)]) * (-1)**(4+1)\n",
    "a5 = 0\n",
    "r = np.array([a5,a4,a3,a2,a1])\n",
    "A1 = np.vstack([A,r])\n",
    "A1, np.linalg.matrix_rank(A1)"
   ]
  },
  {
   "cell_type": "code",
   "execution_count": 44,
   "metadata": {},
   "outputs": [
    {
     "data": {
      "text/plain": [
       "array([6.93889390e-18, 5.20417043e-18, 8.67361738e-19, 1.92150915e-02])"
      ]
     },
     "execution_count": 44,
     "metadata": {},
     "output_type": "execute_result"
    }
   ],
   "source": [
    "A1 @ r"
   ]
  },
  {
   "cell_type": "code",
   "execution_count": 45,
   "metadata": {},
   "outputs": [
    {
     "data": {
      "text/plain": [
       "dtype('float64')"
      ]
     },
     "execution_count": 45,
     "metadata": {},
     "output_type": "execute_result"
    }
   ],
   "source": [
    "A1.dtype"
   ]
  },
  {
   "cell_type": "code",
   "execution_count": 46,
   "metadata": {},
   "outputs": [
    {
     "data": {
      "text/plain": [
       "(array([[ 3.97900347e-01,  4.70678359e-02,  2.35460007e-01,\n",
       "          1.97154996e-01,  3.87922037e-01],\n",
       "        [-3.83466340e-01, -1.79512077e-01, -1.11143718e-01,\n",
       "         -2.23749386e-01,  4.56151484e-01],\n",
       "        [-4.67132256e-02,  7.25802624e-02,  3.04658775e-01,\n",
       "         -4.45306623e-01, -1.21968841e-01],\n",
       "        [ 0.00000000e+00, -1.24623255e-01,  5.03653581e-02,\n",
       "          2.13489661e-02, -2.62999651e-02],\n",
       "        [ 1.92150915e-02, -9.88595368e-03, -1.76597419e-02,\n",
       "         -1.57704219e-02,  2.24270077e-04]]),\n",
       " 5)"
      ]
     },
     "execution_count": 46,
     "metadata": {},
     "output_type": "execute_result"
    }
   ],
   "source": [
    "a1 = np.linalg.det(A1[:, (0,1,2,3)]) * (-1)**(5+5)\n",
    "a2 = np.linalg.det(A1[:, (0,1,2,4)]) * (-1)**(5+4)\n",
    "a3 = np.linalg.det(A1[:, (0,1,3,4)]) * (-1)**(5+3)\n",
    "a4 = np.linalg.det(A1[:, (0,2,3,4)]) * (-1)**(5+2)\n",
    "a5 = np.linalg.det(A1[:, (1,2,3,4)]) * (-1)**(5+1)\n",
    "r = np.array([a5,a4,a3,a2,a1])\n",
    "A2 = np.vstack([A1,r])\n",
    "A2, np.linalg.matrix_rank(A2)"
   ]
  },
  {
   "cell_type": "code",
   "execution_count": 47,
   "metadata": {},
   "outputs": [
    {
     "data": {
      "text/plain": [
       "array([-5.20417043e-18,  5.20417043e-18, -2.16840434e-18, -6.50521303e-19,\n",
       "        1.02757481e-03])"
      ]
     },
     "execution_count": 47,
     "metadata": {},
     "output_type": "execute_result"
    }
   ],
   "source": [
    "A2 @ r"
   ]
  },
  {
   "cell_type": "markdown",
   "metadata": {},
   "source": [
    "2. через фундаментальну систему розв'язків (todo)"
   ]
  },
  {
   "cell_type": "code",
   "execution_count": 26,
   "metadata": {},
   "outputs": [
    {
     "data": {
      "text/plain": [
       "(array([[ 5, 10,  1],\n",
       "        [ 7,  3,  1],\n",
       "        [ 1,  2,  3]]),\n",
       " -154.00000000000006)"
      ]
     },
     "execution_count": 26,
     "metadata": {},
     "output_type": "execute_result"
    }
   ],
   "source": [
    "B = np.array([\n",
    "    [5, 10, 1],\n",
    "    [7, 3, 1],\n",
    "    [1, 2, 3],\n",
    "])\n",
    "B, np.linalg.det(B)"
   ]
  },
  {
   "cell_type": "code",
   "execution_count": 28,
   "metadata": {},
   "outputs": [
    {
     "name": "stdout",
     "output_type": "stream",
     "text": [
      "[  7.   2. -55.]\n"
     ]
    },
    {
     "data": {
      "text/plain": [
       "array([[  5.,  10.,   1.],\n",
       "       [  7.,   3.,   1.],\n",
       "       [  7.,   2., -55.]])"
      ]
     },
     "execution_count": 28,
     "metadata": {},
     "output_type": "execute_result"
    }
   ],
   "source": [
    "b1 = np.linalg.det(B[0:2, (1,2)]) * ((-1)**(3+1))\n",
    "b2 = np.linalg.det(B[0:2, (0,2)]) * ((-1)**(3+2))\n",
    "b3 = np.linalg.det(B[0:2, (0,1)]) * ((-1)**(3+3))\n",
    "r1 = np.array([b1, b2, b3])\n",
    "print(r1)\n",
    "B1 = np.vstack([B[0:2,:], r1])\n",
    "B1"
   ]
  },
  {
   "cell_type": "code",
   "execution_count": 29,
   "metadata": {},
   "outputs": [
    {
     "data": {
      "text/plain": [
       "array([-1.06581410e-14, -7.99360578e-15,  3.07800000e+03])"
      ]
     },
     "execution_count": 29,
     "metadata": {},
     "output_type": "execute_result"
    }
   ],
   "source": [
    "B1 @ r1"
   ]
  },
  {
   "cell_type": "markdown",
   "metadata": {},
   "source": [
    "---"
   ]
  },
  {
   "cell_type": "markdown",
   "metadata": {},
   "source": [
    "## Елементарні матриці\n"
   ]
  },
  {
   "cell_type": "code",
   "execution_count": 59,
   "metadata": {},
   "outputs": [
    {
     "data": {
      "text/plain": [
       "array([[ 1,  2,  3,  4],\n",
       "       [ 5,  6,  7,  8],\n",
       "       [ 9, 10, 11, 12],\n",
       "       [13, 14, 15, 16]])"
      ]
     },
     "execution_count": 59,
     "metadata": {},
     "output_type": "execute_result"
    }
   ],
   "source": [
    "A = np.arange(16).reshape(4,4) + 1\n",
    "A"
   ]
  },
  {
   "cell_type": "code",
   "execution_count": 60,
   "metadata": {},
   "outputs": [
    {
     "data": {
      "text/plain": [
       "array([[0., 1., 0., 0.],\n",
       "       [1., 0., 0., 0.],\n",
       "       [0., 0., 1., 0.],\n",
       "       [0., 0., 0., 1.]])"
      ]
     },
     "execution_count": 60,
     "metadata": {},
     "output_type": "execute_result"
    }
   ],
   "source": [
    "# 1. обмін рядків\n",
    "\n",
    "P = np.eye(4)\n",
    "P[[0,1]] = P[[1,0]]\n",
    "P"
   ]
  },
  {
   "cell_type": "code",
   "execution_count": 61,
   "metadata": {},
   "outputs": [
    {
     "data": {
      "text/plain": [
       "array([[ 5.,  6.,  7.,  8.],\n",
       "       [ 1.,  2.,  3.,  4.],\n",
       "       [ 9., 10., 11., 12.],\n",
       "       [13., 14., 15., 16.]])"
      ]
     },
     "execution_count": 61,
     "metadata": {},
     "output_type": "execute_result"
    }
   ],
   "source": [
    "P @ A"
   ]
  },
  {
   "cell_type": "code",
   "execution_count": 62,
   "metadata": {},
   "outputs": [
    {
     "data": {
      "text/plain": [
       "array([[ 2.,  1.,  3.,  4.],\n",
       "       [ 6.,  5.,  7.,  8.],\n",
       "       [10.,  9., 11., 12.],\n",
       "       [14., 13., 15., 16.]])"
      ]
     },
     "execution_count": 62,
     "metadata": {},
     "output_type": "execute_result"
    }
   ],
   "source": [
    "# 2. обмін стовпців\n",
    "\n",
    "A @ P"
   ]
  },
  {
   "cell_type": "code",
   "execution_count": 63,
   "metadata": {},
   "outputs": [
    {
     "data": {
      "text/plain": [
       "array([[100.,   0.,   0.,   0.],\n",
       "       [  0.,   1.,   0.,   0.],\n",
       "       [  0.,   0.,   1.,   0.],\n",
       "       [  0.,   0.,   0.,   1.]])"
      ]
     },
     "execution_count": 63,
     "metadata": {},
     "output_type": "execute_result"
    }
   ],
   "source": [
    "# 3. множення рядка на число\n",
    "\n",
    "M = np.eye(4)\n",
    "M[0] *= 100\n",
    "M"
   ]
  },
  {
   "cell_type": "code",
   "execution_count": 64,
   "metadata": {},
   "outputs": [
    {
     "data": {
      "text/plain": [
       "array([[100., 200., 300., 400.],\n",
       "       [  5.,   6.,   7.,   8.],\n",
       "       [  9.,  10.,  11.,  12.],\n",
       "       [ 13.,  14.,  15.,  16.]])"
      ]
     },
     "execution_count": 64,
     "metadata": {},
     "output_type": "execute_result"
    }
   ],
   "source": [
    "M @ A"
   ]
  },
  {
   "cell_type": "code",
   "execution_count": 65,
   "metadata": {},
   "outputs": [
    {
     "data": {
      "text/plain": [
       "array([[ 100.,    2.,    3.,    4.],\n",
       "       [ 500.,    6.,    7.,    8.],\n",
       "       [ 900.,   10.,   11.,   12.],\n",
       "       [1300.,   14.,   15.,   16.]])"
      ]
     },
     "execution_count": 65,
     "metadata": {},
     "output_type": "execute_result"
    }
   ],
   "source": [
    "# 4. множення стовпця на число\n",
    "\n",
    "A @ M"
   ]
  },
  {
   "cell_type": "code",
   "execution_count": 80,
   "metadata": {},
   "outputs": [
    {
     "data": {
      "text/plain": [
       "array([[  1.,   0.,   0.,   0.],\n",
       "       [100.,   1.,   0.,   0.],\n",
       "       [  0.,   0.,   1.,   0.],\n",
       "       [  0.,   0.,   0.,   1.]])"
      ]
     },
     "execution_count": 80,
     "metadata": {},
     "output_type": "execute_result"
    }
   ],
   "source": [
    "# 5. додавання рядка, помноженого на коефіцієнт, до іншого рядка\n",
    "\n",
    "S = np.eye(4)\n",
    "S[1,0] = 100\n",
    "S"
   ]
  },
  {
   "cell_type": "code",
   "execution_count": 81,
   "metadata": {},
   "outputs": [
    {
     "data": {
      "text/plain": [
       "array([[  1.,   2.,   3.,   4.],\n",
       "       [105., 206., 307., 408.],\n",
       "       [  9.,  10.,  11.,  12.],\n",
       "       [ 13.,  14.,  15.,  16.]])"
      ]
     },
     "execution_count": 81,
     "metadata": {},
     "output_type": "execute_result"
    }
   ],
   "source": [
    "S @ A"
   ]
  },
  {
   "cell_type": "code",
   "execution_count": 82,
   "metadata": {},
   "outputs": [
    {
     "data": {
      "text/plain": [
       "array([[  1., 100.,   0.,   0.],\n",
       "       [  0.,   1.,   0.,   0.],\n",
       "       [  0.,   0.,   1.,   0.],\n",
       "       [  0.,   0.,   0.,   1.]])"
      ]
     },
     "execution_count": 82,
     "metadata": {},
     "output_type": "execute_result"
    }
   ],
   "source": [
    "# 6. додавання стовпця, помноженого на коефіцієнт, до іншого стовпця\n",
    "\n",
    "S1 = S.T\n",
    "S1"
   ]
  },
  {
   "cell_type": "code",
   "execution_count": 83,
   "metadata": {},
   "outputs": [
    {
     "data": {
      "text/plain": [
       "array([[   1,  102,    3,    4],\n",
       "       [   5,  506,    7,    8],\n",
       "       [   9,  910,   11,   12],\n",
       "       [  13, 1314,   15,   16]])"
      ]
     },
     "execution_count": 83,
     "metadata": {},
     "output_type": "execute_result"
    }
   ],
   "source": [
    "(A @ S1).astype('int')"
   ]
  }
 ],
 "metadata": {
  "kernelspec": {
   "display_name": "sci",
   "language": "python",
   "name": "python3"
  },
  "language_info": {
   "codemirror_mode": {
    "name": "ipython",
    "version": 3
   },
   "file_extension": ".py",
   "mimetype": "text/x-python",
   "name": "python",
   "nbconvert_exporter": "python",
   "pygments_lexer": "ipython3",
   "version": "3.11.0"
  },
  "orig_nbformat": 4
 },
 "nbformat": 4,
 "nbformat_minor": 2
}
