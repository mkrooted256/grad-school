{
 "cells": [
  {
   "cell_type": "code",
   "execution_count": 25,
   "metadata": {},
   "outputs": [],
   "source": [
    "import sympy as sym\n",
    "from sympy import Derivative, symbols, Function, latex, expand, simplify\n",
    "from IPython.display import Math"
   ]
  },
  {
   "cell_type": "code",
   "execution_count": 30,
   "metadata": {},
   "outputs": [
    {
     "data": {
      "text/latex": [
       "$\\displaystyle f{\\left(x_{1},x_{2},x_{3} \\right)}$"
      ],
      "text/plain": [
       "f(x1, x2, x3)"
      ]
     },
     "metadata": {},
     "output_type": "display_data"
    },
    {
     "data": {
      "text/latex": [
       "$\\displaystyle \\lambda$"
      ],
      "text/plain": [
       "\\lambda"
      ]
     },
     "metadata": {},
     "output_type": "display_data"
    }
   ],
   "source": [
    "x1,x2,x3 = symbols('x1:4')\n",
    "f = symbols('f', cls=Function)(x1,x2,x3)\n",
    "lam = symbols('\\\\lambda', is_real=True)\n",
    "display(f)\n",
    "display(lam)"
   ]
  },
  {
   "cell_type": "code",
   "execution_count": 77,
   "metadata": {},
   "outputs": [
    {
     "data": {
      "text/latex": [
       "$\\displaystyle a_1 = \\frac{\\partial}{\\partial x_{1}} f{\\left(x_{1},x_{2},x_{3} \\right)}$"
      ],
      "text/plain": [
       "<IPython.core.display.Math object>"
      ]
     },
     "metadata": {},
     "output_type": "display_data"
    },
    {
     "data": {
      "text/latex": [
       "$\\displaystyle a_2 = x_{2} \\frac{\\partial}{\\partial x_{1}} f{\\left(x_{1},x_{2},x_{3} \\right)} + x_{3} \\frac{\\partial}{\\partial x_{2}} f{\\left(x_{1},x_{2},x_{3} \\right)}$"
      ],
      "text/plain": [
       "<IPython.core.display.Math object>"
      ]
     },
     "metadata": {},
     "output_type": "display_data"
    },
    {
     "data": {
      "text/latex": [
       "$\\displaystyle a_3 = \\frac{\\partial}{\\partial x_{2}} f{\\left(x_{1},x_{2},x_{3} \\right)}$"
      ],
      "text/plain": [
       "<IPython.core.display.Math object>"
      ]
     },
     "metadata": {},
     "output_type": "display_data"
    },
    {
     "data": {
      "text/latex": [
       "$\\displaystyle a_4 = x_{2} \\left(\\lambda - x_{3}\\right) \\frac{\\partial}{\\partial x_{2}} f{\\left(x_{1},x_{2},x_{3} \\right)} - \\left(x_{3}^{2} + 1\\right) \\frac{\\partial}{\\partial x_{3}} f{\\left(x_{1},x_{2},x_{3} \\right)} + \\left(2 \\lambda x_{1} - 0.5 x_{2}^{2}\\right) \\frac{\\partial}{\\partial x_{1}} f{\\left(x_{1},x_{2},x_{3} \\right)}$"
      ],
      "text/plain": [
       "<IPython.core.display.Math object>"
      ]
     },
     "metadata": {},
     "output_type": "display_data"
    }
   ],
   "source": [
    "a1 = Derivative(f,x1)\n",
    "a2 = x2*Derivative(f,x1) + x3*Derivative(f,x2)\n",
    "a3 = Derivative(f,x2)\n",
    "a4 = (2*lam*x1 - 1/2 * x2**2) * Derivative(f,x1) + (lam - x3)*x2*Derivative(f,x2) \\\n",
    "    - (1+x3**2)*Derivative(f,x3)\n",
    "\n",
    "aa = [a1,a2,a3,a4]\n",
    "for i,a in enumerate(aa,start=1): display(Math(f\"a_{i} = \" + latex(a)))"
   ]
  },
  {
   "cell_type": "code",
   "execution_count": 78,
   "metadata": {},
   "outputs": [],
   "source": [
    "def comm(x,y):\n",
    "    return x.subs(f,y) - y.subs(f,x)"
   ]
  },
  {
   "cell_type": "code",
   "execution_count": 79,
   "metadata": {},
   "outputs": [],
   "source": [
    "second_ders = []\n",
    "for x in (x1,x2,x3):\n",
    "    for y in (x1,x2,x3):\n",
    "        u = Derivative(f,x,y)\n",
    "        second_ders.append(u)\n",
    "        # display(u)"
   ]
  },
  {
   "cell_type": "code",
   "execution_count": 80,
   "metadata": {},
   "outputs": [
    {
     "data": {
      "text/latex": [
       "$\\displaystyle \\frac{\\partial^{2}}{\\partial x_{1}\\partial x_{2}} f{\\left(x_{1},x_{2},x_{3} \\right)}$"
      ],
      "text/plain": [
       "Derivative(f(x1, x2, x3), x2, x1)"
      ]
     },
     "execution_count": 80,
     "metadata": {},
     "output_type": "execute_result"
    }
   ],
   "source": [
    "second_ders[3]"
   ]
  },
  {
   "cell_type": "code",
   "execution_count": 81,
   "metadata": {},
   "outputs": [],
   "source": [
    "comms = []\n",
    "for i,a in enumerate(aa,start=1):\n",
    "    for j,b in enumerate(aa[i:],start=i+1):\n",
    "        term = simplify(expand(comm(a,b)))\n",
    "        for dd in second_ders:\n",
    "            term = term.subs(dd, 0)\n",
    "        term = simplify(expand(term))\n",
    "        name = f\"[ a_{i}, a_{j} ]\"\n",
    "        comms.append((name,term))\n",
    "    "
   ]
  },
  {
   "cell_type": "code",
   "execution_count": 82,
   "metadata": {},
   "outputs": [
    {
     "data": {
      "text/latex": [
       "$\\displaystyle - \\frac{\\partial}{\\partial x_{1}} f{\\left(x_{1},x_{2},x_{3} \\right)}$"
      ],
      "text/plain": [
       "-Derivative(f(x1, x2, x3), x1)"
      ]
     },
     "execution_count": 82,
     "metadata": {},
     "output_type": "execute_result"
    }
   ],
   "source": [
    "term = simplify(expand(comm(a2,a3)))\n",
    "term"
   ]
  },
  {
   "cell_type": "code",
   "execution_count": null,
   "metadata": {},
   "outputs": [],
   "source": []
  },
  {
   "cell_type": "code",
   "execution_count": 83,
   "metadata": {},
   "outputs": [
    {
     "data": {
      "text/latex": [
       "$\\displaystyle [ a_1, a_2 ] = 0$"
      ],
      "text/plain": [
       "<IPython.core.display.Math object>"
      ]
     },
     "metadata": {},
     "output_type": "display_data"
    },
    {
     "data": {
      "text/latex": [
       "$\\displaystyle [ a_1, a_3 ] = 0$"
      ],
      "text/plain": [
       "<IPython.core.display.Math object>"
      ]
     },
     "metadata": {},
     "output_type": "display_data"
    },
    {
     "data": {
      "text/latex": [
       "$\\displaystyle [ a_1, a_4 ] = 2 \\lambda \\frac{\\partial}{\\partial x_{1}} f{\\left(x_{1},x_{2},x_{3} \\right)}$"
      ],
      "text/plain": [
       "<IPython.core.display.Math object>"
      ]
     },
     "metadata": {},
     "output_type": "display_data"
    },
    {
     "data": {
      "text/latex": [
       "$\\displaystyle [ a_2, a_3 ] = - \\frac{\\partial}{\\partial x_{1}} f{\\left(x_{1},x_{2},x_{3} \\right)}$"
      ],
      "text/plain": [
       "<IPython.core.display.Math object>"
      ]
     },
     "metadata": {},
     "output_type": "display_data"
    },
    {
     "data": {
      "text/latex": [
       "$\\displaystyle [ a_2, a_4 ] = \\lambda x_{2} \\frac{\\partial}{\\partial x_{1}} f{\\left(x_{1},x_{2},x_{3} \\right)} + \\lambda x_{3} \\frac{\\partial}{\\partial x_{2}} f{\\left(x_{1},x_{2},x_{3} \\right)} + \\frac{\\partial}{\\partial x_{2}} f{\\left(x_{1},x_{2},x_{3} \\right)}$"
      ],
      "text/plain": [
       "<IPython.core.display.Math object>"
      ]
     },
     "metadata": {},
     "output_type": "display_data"
    },
    {
     "data": {
      "text/latex": [
       "$\\displaystyle [ a_3, a_4 ] = \\lambda \\frac{\\partial}{\\partial x_{2}} f{\\left(x_{1},x_{2},x_{3} \\right)} - 1.0 x_{2} \\frac{\\partial}{\\partial x_{1}} f{\\left(x_{1},x_{2},x_{3} \\right)} - x_{3} \\frac{\\partial}{\\partial x_{2}} f{\\left(x_{1},x_{2},x_{3} \\right)}$"
      ],
      "text/plain": [
       "<IPython.core.display.Math object>"
      ]
     },
     "metadata": {},
     "output_type": "display_data"
    }
   ],
   "source": [
    "for n,t in comms:\n",
    "    display(Math(n + \" = \" + latex(t)))"
   ]
  },
  {
   "cell_type": "code",
   "execution_count": 67,
   "metadata": {},
   "outputs": [
    {
     "data": {
      "text/latex": [
       "$\\displaystyle - \\lambda x_{2} \\frac{\\partial}{\\partial x_{1}} f{\\left(x_{1},x_{2},x_{3} \\right)} + \\lambda x_{3} \\frac{\\partial}{\\partial x_{2}} f{\\left(x_{1},x_{2},x_{3} \\right)} + \\frac{\\partial}{\\partial x_{2}} f{\\left(x_{1},x_{2},x_{3} \\right)}$"
      ],
      "text/plain": [
       "-\\lambda*x2*Derivative(f(x1, x2, x3), x1) + \\lambda*x3*Derivative(f(x1, x2, x3), x2) + Derivative(f(x1, x2, x3), x2)"
      ]
     },
     "execution_count": 67,
     "metadata": {},
     "output_type": "execute_result"
    }
   ],
   "source": [
    "C24 = comms[4][1]\n",
    "C24"
   ]
  },
  {
   "cell_type": "code",
   "execution_count": 62,
   "metadata": {},
   "outputs": [
    {
     "data": {
      "text/latex": [
       "$\\displaystyle - \\lambda x_{2} \\frac{\\partial}{\\partial x_{1}} f{\\left(x_{1},x_{2},x_{3} \\right)} + x_{2} x_{3} \\frac{\\partial}{\\partial x_{1}} f{\\left(x_{1},x_{2},x_{3} \\right)} + x_{2} \\frac{\\partial}{\\partial x_{1}} f{\\left(x_{1},x_{2},x_{3} \\right)} + x_{3}^{2} \\frac{\\partial}{\\partial x_{2}} f{\\left(x_{1},x_{2},x_{3} \\right)} + x_{3} \\left(\\lambda \\frac{\\partial}{\\partial x_{2}} f{\\left(x_{1},x_{2},x_{3} \\right)} - 1.0 x_{2} \\frac{\\partial}{\\partial x_{1}} f{\\left(x_{1},x_{2},x_{3} \\right)} - x_{3} \\frac{\\partial}{\\partial x_{2}} f{\\left(x_{1},x_{2},x_{3} \\right)}\\right) + x_{3} \\frac{\\partial}{\\partial x_{2}} f{\\left(x_{1},x_{2},x_{3} \\right)} + \\frac{\\partial}{\\partial x_{2}} f{\\left(x_{1},x_{2},x_{3} \\right)}$"
      ],
      "text/plain": [
       "-\\lambda*x2*Derivative(f(x1, x2, x3), x1) + x2*x3*Derivative(f(x1, x2, x3), x1) + x2*Derivative(f(x1, x2, x3), x1) + x3**2*Derivative(f(x1, x2, x3), x2) + x3*(\\lambda*Derivative(f(x1, x2, x3), x2) - 1.0*x2*Derivative(f(x1, x2, x3), x1) - x3*Derivative(f(x1, x2, x3), x2)) + x3*Derivative(f(x1, x2, x3), x2) + Derivative(f(x1, x2, x3), x2)"
      ]
     },
     "execution_count": 62,
     "metadata": {},
     "output_type": "execute_result"
    }
   ],
   "source": [
    "C24 - lam * a2 - "
   ]
  },
  {
   "cell_type": "code",
   "execution_count": null,
   "metadata": {},
   "outputs": [],
   "source": []
  }
 ],
 "metadata": {
  "kernelspec": {
   "display_name": "sci",
   "language": "python",
   "name": "python3"
  },
  "language_info": {
   "codemirror_mode": {
    "name": "ipython",
    "version": 3
   },
   "file_extension": ".py",
   "mimetype": "text/x-python",
   "name": "python",
   "nbconvert_exporter": "python",
   "pygments_lexer": "ipython3",
   "version": "3.12.0"
  }
 },
 "nbformat": 4,
 "nbformat_minor": 2
}
