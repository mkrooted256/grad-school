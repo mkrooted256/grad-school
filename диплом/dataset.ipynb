{
 "cells": [
  {
   "cell_type": "code",
   "execution_count": 24,
   "id": "730d25ec",
   "metadata": {},
   "outputs": [],
   "source": [
    "import numpy as np\n",
    "from PIL import Image\n",
    "import scipy as sp \n",
    "import os\n",
    "from pathlib import Path\n",
    "from tqdm import tqdm \n",
    "import re\n",
    "import skimage as ski"
   ]
  },
  {
   "cell_type": "code",
   "execution_count": 2,
   "id": "173e2a19",
   "metadata": {},
   "outputs": [
    {
     "data": {
      "text/plain": [
       "(39,\n",
       " ['Y:/kau/диплом/data/brodatz-textures/1.1.01.tiff',\n",
       "  'Y:/kau/диплом/data/brodatz-textures/1.1.02.tiff',\n",
       "  'Y:/kau/диплом/data/brodatz-textures/1.1.03.tiff'])"
      ]
     },
     "execution_count": 2,
     "metadata": {},
     "output_type": "execute_result"
    }
   ],
   "source": [
    "source_files = \"\"\"\n",
    "Y:/kau/диплом/data/brodatz-textures/1.1.01.tiff\n",
    "Y:/kau/диплом/data/brodatz-textures/1.1.02.tiff\n",
    "Y:/kau/диплом/data/brodatz-textures/1.1.03.tiff\n",
    "Y:/kau/диплом/data/brodatz-textures/1.1.04.tiff\n",
    "Y:/kau/диплом/data/brodatz-textures/1.1.05.tiff\n",
    "Y:/kau/диплом/data/brodatz-textures/1.1.06.tiff\n",
    "Y:/kau/диплом/data/brodatz-textures/1.1.07.tiff\n",
    "Y:/kau/диплом/data/brodatz-textures/1.1.08.tiff\n",
    "Y:/kau/диплом/data/brodatz-textures/1.1.09.tiff\n",
    "Y:/kau/диплом/data/brodatz-textures/1.1.10.tiff\n",
    "Y:/kau/диплом/data/brodatz-textures/1.1.11.tiff\n",
    "Y:/kau/диплом/data/brodatz-textures/1.1.12.tiff\n",
    "Y:/kau/диплом/data/brodatz-textures/1.1.13.tiff\n",
    "Y:/kau/диплом/data/brodatz-textures/1.2.01.tiff\n",
    "Y:/kau/диплом/data/brodatz-textures/1.2.02.tiff\n",
    "Y:/kau/диплом/data/brodatz-textures/1.2.03.tiff\n",
    "Y:/kau/диплом/data/brodatz-textures/1.2.04.tiff\n",
    "Y:/kau/диплом/data/brodatz-textures/1.2.05.tiff\n",
    "Y:/kau/диплом/data/brodatz-textures/1.2.06.tiff\n",
    "Y:/kau/диплом/data/brodatz-textures/1.2.07.tiff\n",
    "Y:/kau/диплом/data/brodatz-textures/1.2.08.tiff\n",
    "Y:/kau/диплом/data/brodatz-textures/1.2.09.tiff\n",
    "Y:/kau/диплом/data/brodatz-textures/1.2.10.tiff\n",
    "Y:/kau/диплом/data/brodatz-textures/1.2.11.tiff\n",
    "Y:/kau/диплом/data/brodatz-textures/1.2.12.tiff\n",
    "Y:/kau/диплом/data/brodatz-textures/1.2.13.tiff\n",
    "Y:/kau/диплом/data/brodatz-textures/1.3.01.tiff\n",
    "Y:/kau/диплом/data/brodatz-textures/1.3.02.tiff\n",
    "Y:/kau/диплом/data/brodatz-textures/1.3.03.tiff\n",
    "Y:/kau/диплом/data/brodatz-textures/1.3.04.tiff\n",
    "Y:/kau/диплом/data/brodatz-textures/1.3.05.tiff\n",
    "Y:/kau/диплом/data/brodatz-textures/1.3.06.tiff\n",
    "Y:/kau/диплом/data/brodatz-textures/1.3.07.tiff\n",
    "Y:/kau/диплом/data/brodatz-textures/1.3.08.tiff\n",
    "Y:/kau/диплом/data/brodatz-textures/1.3.09.tiff\n",
    "Y:/kau/диплом/data/brodatz-textures/1.3.10.tiff\n",
    "Y:/kau/диплом/data/brodatz-textures/1.3.11.tiff\n",
    "Y:/kau/диплом/data/brodatz-textures/1.3.12.tiff\n",
    "Y:/kau/диплом/data/brodatz-textures/1.3.13.tiff\n",
    "\"\"\".split()\n",
    "\n",
    "len(source_files), source_files[:3]"
   ]
  },
  {
   "cell_type": "code",
   "execution_count": 3,
   "id": "ed729ecc",
   "metadata": {},
   "outputs": [],
   "source": [
    "def split_image_in_chunks(image, chunk_size):\n",
    "    n1 = image.shape[0] // chunk_size\n",
    "    n2 = image.shape[1] // chunk_size\n",
    "    chunks = []\n",
    "    for i in range(n1):\n",
    "        for j in range(n2):\n",
    "            chunks.append(image[i*chunk_size:(i+1)*chunk_size, j*chunk_size:(j+1)*chunk_size])\n",
    "    return chunks"
   ]
  },
  {
   "cell_type": "code",
   "execution_count": 9,
   "id": "3bb29fc3",
   "metadata": {},
   "outputs": [
    {
     "data": {
      "text/plain": [
       "((512, 512), dtype('uint8'))"
      ]
     },
     "execution_count": 9,
     "metadata": {},
     "output_type": "execute_result"
    }
   ],
   "source": [
    "img = Image.open(source_files[0])\n",
    "imgd = np.asarray(img)\n",
    "imgd.shape, imgd.dtype"
   ]
  },
  {
   "cell_type": "code",
   "execution_count": 40,
   "id": "13344e60",
   "metadata": {},
   "outputs": [
    {
     "data": {
      "text/plain": [
       "((512, 512), dtype('float64'))"
      ]
     },
     "execution_count": 40,
     "metadata": {},
     "output_type": "execute_result"
    }
   ],
   "source": [
    "lbp = ski.feature.local_binary_pattern(imgd, 1, 8, 'default')\n",
    "lbp.shape, lbp.dtype"
   ]
  },
  {
   "cell_type": "code",
   "execution_count": 16,
   "id": "249734ee",
   "metadata": {},
   "outputs": [
    {
     "data": {
      "text/plain": [
       "[1, 2, 13]"
      ]
     },
     "execution_count": 16,
     "metadata": {},
     "output_type": "execute_result"
    }
   ],
   "source": [
    "list(map(int,re.match(r'(\\d+).(\\d+).(\\d+)', \"1.2.13\").groups()))"
   ]
  },
  {
   "cell_type": "code",
   "execution_count": null,
   "id": "6566106a",
   "metadata": {},
   "outputs": [
    {
     "name": "stderr",
     "output_type": "stream",
     "text": [
      "images: 100%|██████████| 39/39 [00:00<00:00, 87.54it/s]\n"
     ]
    }
   ],
   "source": [
    "# For Brodatz Textures\n",
    "CHUNK_SIZE = 100\n",
    "dataset = []\n",
    "labels = []\n",
    "for path in tqdm(source_files, desc=\"images\"):\n",
    "    path = Path(path)\n",
    "    img = Image.open(path)\n",
    "    stem, suffix = path.stem, path.suffix\n",
    "    \n",
    "    _, subset, label = map(int, re.match(r'(\\d+).(\\d+).(\\d+)', stem).groups())\n",
    "\n",
    "    chunks = split_image_in_chunks(np.asarray(img), CHUNK_SIZE)\n",
    "    dataset += chunks\n",
    "    labels += [(subset, label)] * len(chunks)\n",
    "\n",
    "    img.close()"
   ]
  },
  {
   "cell_type": "code",
   "execution_count": null,
   "id": "6e8bbc5d",
   "metadata": {},
   "outputs": [],
   "source": [
    "np.save(\"Y:/kau/диплом/data/dataset/chunks.npy\", np.array(dataset), dtype=np.uint8)\n",
    "np.save(\"Y:/kau/диплом/data/dataset/labels.npy\", np.array(labels), dtype=np.uint8)"
   ]
  },
  {
   "cell_type": "markdown",
   "id": "dc60deac",
   "metadata": {},
   "source": [
    "---"
   ]
  },
  {
   "cell_type": "code",
   "execution_count": 43,
   "id": "752098a3",
   "metadata": {},
   "outputs": [
    {
     "data": {
      "text/plain": [
       "array([  1,   2,  10, 130], dtype=uint16)"
      ]
     },
     "execution_count": 43,
     "metadata": {},
     "output_type": "execute_result"
    }
   ],
   "source": [
    "a = np.array([1.0, 2.0, 10.0, 130.0])\n",
    "a.astype(np.uint16)"
   ]
  },
  {
   "cell_type": "code",
   "execution_count": 69,
   "id": "91a863a5",
   "metadata": {},
   "outputs": [],
   "source": [
    "def LBP(img, R, P, method):\n",
    "    assert method != 'var'\n",
    "    if method == 'default':\n",
    "        assert P <= 16\n",
    "    lbp = ski.feature.local_binary_pattern(img, P, R, method)\n",
    "    return lbp.astype(np.uint16)"
   ]
  },
  {
   "cell_type": "code",
   "execution_count": 53,
   "id": "eebc26ab",
   "metadata": {},
   "outputs": [
    {
     "data": {
      "text/plain": [
       "((1950, 2), dtype('uint8'))"
      ]
     },
     "execution_count": 53,
     "metadata": {},
     "output_type": "execute_result"
    }
   ],
   "source": [
    "dataset = \"Y:/kau/диплом/data/dataset\"\n",
    "# chunks.npy\n",
    "# labels.npy\n",
    "\n",
    "labels = np.load(f\"{dataset}/labels.npy\")\n",
    "labels.shape, labels.dtype"
   ]
  },
  {
   "cell_type": "code",
   "execution_count": 63,
   "id": "52506a95",
   "metadata": {},
   "outputs": [
    {
     "data": {
      "text/plain": [
       "(3900,)"
      ]
     },
     "execution_count": 63,
     "metadata": {},
     "output_type": "execute_result"
    }
   ],
   "source": [
    "np.shape(labels.flat)"
   ]
  },
  {
   "cell_type": "code",
   "execution_count": 70,
   "id": "6c2e0fa9",
   "metadata": {},
   "outputs": [],
   "source": [
    "# calculate lbp for whole image and then divide to avoid chunk boundary issues\n",
    "def lbp_for_chunks(R, P, method):\n",
    "    codename = f\"lbp_R{R}_P{P}_{method[0]}\"\n",
    "    filename = f\"{dataset}/{codename}.npy\"\n",
    "    print(f\"{codename}..\", end='')\n",
    "\n",
    "    if Path(filename).is_file():\n",
    "        print(f\"exists, skipping.\")\n",
    "        return\n",
    "    lbped_chunks = []\n",
    "    for path in source_files:\n",
    "        path = Path(path)\n",
    "        img = Image.open(path)\n",
    "        data = np.asarray(img)\n",
    "        assert data.dtype == np.uint8\n",
    "        assert len(data.shape) == 2\n",
    "        lbp = LBP(data, R, P, method)\n",
    "        lbped_chunks += split_image_in_chunks(lbp, CHUNK_SIZE)\n",
    "        img.close()\n",
    "    print('saving..', end='')\n",
    "    assert len(lbped_chunks) == labels.shape[0]\n",
    "    np.save(filename, np.array(lbped_chunks))\n",
    "    print('done!')\n"
   ]
  },
  {
   "cell_type": "code",
   "execution_count": 72,
   "id": "3f9143b7",
   "metadata": {},
   "outputs": [
    {
     "name": "stdout",
     "output_type": "stream",
     "text": [
      "lbp_R1_P8_d..saving..done!\n",
      "lbp_R2_P12_d..saving..done!\n",
      "lbp_R1_P8_u..saving..done!\n",
      "lbp_R2_P12_u..saving..done!\n",
      "lbp_R3_P24_u..saving..done!\n",
      "lbp_R5_P36_u..saving..done!\n",
      "CPU times: total: 48.2 s\n",
      "Wall time: 49.4 s\n"
     ]
    }
   ],
   "source": [
    "%%time\n",
    "lbp_for_chunks(1,8,'default')\n",
    "lbp_for_chunks(2,12,'default')\n",
    "lbp_for_chunks(1,8,'uniform')\n",
    "lbp_for_chunks(2,12,'uniform')\n",
    "lbp_for_chunks(3,24,'uniform')\n",
    "lbp_for_chunks(5,36,'uniform')"
   ]
  },
  {
   "cell_type": "markdown",
   "id": "49d61e18",
   "metadata": {},
   "source": [
    "---"
   ]
  },
  {
   "cell_type": "code",
   "execution_count": 64,
   "id": "bd39a89c",
   "metadata": {},
   "outputs": [],
   "source": [
    "def lbphist_for_chunks(R, P, method):\n",
    "    codename = f\"R{R}_P{P}_{method[0]}\"\n",
    "    lbp_filename = f\"{dataset}/lbp_{codename}.npy\"\n",
    "    hist_filename = f\"{dataset}/hist_{codename}.npy\"\n",
    "    print(f\"{codename}..\", end='')\n",
    "\n",
    "    if not Path(lbp_filename).is_file():\n",
    "        print(\"lbp absent.\")\n",
    "        return\n",
    "    if Path(hist_filename).is_file():\n",
    "        print(\"hist present, skipping.\")\n",
    "        return\n",
    "\n",
    "    if method == 'uniform':\n",
    "        nbins = P+2\n",
    "    elif method == 'default':\n",
    "        nbins = 2**P\n",
    "    else:\n",
    "        print(f\"unsupported method '{method}'.\")\n",
    "        return\n",
    "    \n",
    "    lbpdata = np.load(lbp_filename)\n",
    "    assert lbpdata.shape[0] == labels.shape[0]\n",
    "    assert max(lbpdata.shape[1], lbpdata.shape[2]) < 2**16\n",
    "\n",
    "    lbphist = np.zeros((labels.shape[0], nbins), dtype=np.uint32)\n",
    "    for n,chunk in enumerate(lbpdata):\n",
    "        lbphist[n] = np.bincount(chunk.flat, minlength=nbins)\n",
    "\n",
    "    assert lbphist[0].sum() == lbpdata.shape[1] * lbpdata.shape[2]\n",
    "    np.save(hist_filename, lbphist)\n",
    "    print(\"done!\")"
   ]
  },
  {
   "cell_type": "code",
   "execution_count": 73,
   "id": "0234580e",
   "metadata": {},
   "outputs": [
    {
     "name": "stdout",
     "output_type": "stream",
     "text": [
      "R1_P8_d..done!\n",
      "R2_P12_d..done!\n",
      "R1_P8_u..done!\n",
      "R2_P12_u..done!\n",
      "R3_P24_u..done!\n",
      "R5_P36_u..done!\n",
      "CPU times: total: 641 ms\n",
      "Wall time: 759 ms\n"
     ]
    }
   ],
   "source": [
    "%%time\n",
    "lbphist_for_chunks(1,8,'default')\n",
    "lbphist_for_chunks(2,12,'default')\n",
    "lbphist_for_chunks(1,8,'uniform')\n",
    "lbphist_for_chunks(2,12,'uniform')\n",
    "lbphist_for_chunks(3,24,'uniform')\n",
    "lbphist_for_chunks(5,36,'uniform')"
   ]
  },
  {
   "cell_type": "markdown",
   "id": "85d80c00",
   "metadata": {},
   "source": [
    "---"
   ]
  },
  {
   "cell_type": "code",
   "execution_count": 74,
   "id": "1165791a",
   "metadata": {},
   "outputs": [
    {
     "data": {
      "text/plain": [
       "array([[ 829,  132,   24, ...,   34,   98,  820],\n",
       "       [ 783,  162,   27, ...,   43,  131,  793],\n",
       "       [ 790,  112,   30, ...,   30,  103,  799],\n",
       "       ...,\n",
       "       [ 960,  168,   47, ...,   59,  153, 1091],\n",
       "       [ 868,  130,   69, ...,   67,  130,  963],\n",
       "       [ 920,  151,   76, ...,   73,  133, 1047]],\n",
       "      shape=(1950, 256), dtype=uint32)"
      ]
     },
     "execution_count": 74,
     "metadata": {},
     "output_type": "execute_result"
    }
   ],
   "source": [
    "a = np.load(f'{dataset}/hist_R1_P8_d.npy')\n",
    "a"
   ]
  },
  {
   "cell_type": "code",
   "execution_count": 75,
   "id": "ae869105",
   "metadata": {},
   "outputs": [
    {
     "data": {
      "text/plain": [
       "array([[[ 65,   1, 129, ..., 225,   0,  16],\n",
       "        [192, 255, 239, ..., 144, 246, 254],\n",
       "        [193, 224, 243, ...,   7,   0, 240],\n",
       "        ...,\n",
       "        [  0, 255,  12, ...,  64, 248, 255],\n",
       "        [  4, 251, 196, ...,  64, 248, 250],\n",
       "        [  4, 251, 225, ...,   0, 184, 240]],\n",
       "\n",
       "       [[ 17,   1,   1, ..., 177,  64, 241],\n",
       "        [255, 175,   6, ...,  63,   0, 208],\n",
       "        [112,  55,   4, ..., 255, 135,   0],\n",
       "        ...,\n",
       "        [134, 254, 255, ...,  57,   1,  64],\n",
       "        [255, 193,   0, ...,  31, 159, 132],\n",
       "        [243,   0,  20, ..., 191, 207, 133]],\n",
       "\n",
       "       [[  0, 176, 241, ..., 241, 225, 225],\n",
       "        [252, 255, 227, ...,   1,   0,  16],\n",
       "        [145,  64, 112, ..., 135, 207,   6],\n",
       "        ...,\n",
       "        [127, 143,   6, ..., 108, 124, 255],\n",
       "        [248, 255, 239, ..., 240, 120, 251],\n",
       "        [128, 240, 247, ...,  64, 120, 251]],\n",
       "\n",
       "       ...,\n",
       "\n",
       "       [[  0, 223, 131, ..., 224, 112, 112],\n",
       "        [215, 195, 135, ...,  32,  56, 249],\n",
       "        [  3, 131, 199, ...,  28, 255,   1],\n",
       "        ...,\n",
       "        [227,   4, 255, ...,  60,  62, 191],\n",
       "        [  0,  63,   0, ...,  60,  60, 255],\n",
       "        [ 76, 255,   7, ...,  62, 191, 131]],\n",
       "\n",
       "       [[248, 248, 252, ...,   0, 118,  60],\n",
       "        [240, 112, 248, ..., 247,  32,  60],\n",
       "        [  0, 240, 240, ...,   0,  60,  60],\n",
       "        ...,\n",
       "        [135,  64, 120, ..., 108, 255, 143],\n",
       "        [199,  64,  56, ...,   0, 248, 255],\n",
       "        [135,   0,  60, ..., 255, 128, 243]],\n",
       "\n",
       "       [[ 62,  62, 255, ..., 239,   0, 223],\n",
       "        [ 60, 255, 195, ..., 147, 199, 139],\n",
       "        [255, 225, 227, ..., 255,   2, 223],\n",
       "        ...,\n",
       "        [  2,  28, 189, ..., 253,  97,   0],\n",
       "        [ 70,  28, 255, ...,   0,  16,  30],\n",
       "        [224, 255, 107, ...,  30, 254, 255]]],\n",
       "      shape=(1950, 100, 100), dtype=uint16)"
      ]
     },
     "execution_count": 75,
     "metadata": {},
     "output_type": "execute_result"
    }
   ],
   "source": [
    "b = np.load(f'{dataset}/lbp_R1_P8_d.npy')\n",
    "b"
   ]
  }
 ],
 "metadata": {
  "kernelspec": {
   "display_name": ".venv",
   "language": "python",
   "name": "python3"
  },
  "language_info": {
   "codemirror_mode": {
    "name": "ipython",
    "version": 3
   },
   "file_extension": ".py",
   "mimetype": "text/x-python",
   "name": "python",
   "nbconvert_exporter": "python",
   "pygments_lexer": "ipython3",
   "version": "3.13.1"
  }
 },
 "nbformat": 4,
 "nbformat_minor": 5
}
