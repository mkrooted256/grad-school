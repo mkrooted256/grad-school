{
 "cells": [
  {
   "cell_type": "code",
   "execution_count": 1,
   "metadata": {},
   "outputs": [],
   "source": [
    "import numpy as np\n",
    "import scipy as sp"
   ]
  },
  {
   "cell_type": "markdown",
   "metadata": {},
   "source": [
    "## Лінійна незалежність функцій\n",
    "\n",
    "$$f_1(x) = \\sin x, f_2(x) = \\cos x, f_3(x) = x^2$$\n",
    "\n",
    "Складаємо детермінант з значень функцій у трьох різних довільних (в якомусь сенсі) точках\n",
    "\n",
    "$$G(0, \\pi/2, 1) = \\begin{vmatrix}1 & 0 & 0 \\\\ 0 & 1 & \\pi^2/4 \\\\ \\cos 1 & \\sin 1 & 1\\end{vmatrix} \\ne 0$$\n",
    "\n",
    "**todo**: знайти такі функції $C[0,1]$ щоб вони були лінійно незалежні, але *майже напевне* детермінант $G(x_1, ..., x_n) = 0$ \n",
    "\n"
   ]
  }
 ],
 "metadata": {
  "kernelspec": {
   "display_name": "sci",
   "language": "python",
   "name": "python3"
  },
  "language_info": {
   "codemirror_mode": {
    "name": "ipython",
    "version": 3
   },
   "file_extension": ".py",
   "mimetype": "text/x-python",
   "name": "python",
   "nbconvert_exporter": "python",
   "pygments_lexer": "ipython3",
   "version": "3.11.0"
  },
  "orig_nbformat": 4
 },
 "nbformat": 4,
 "nbformat_minor": 2
}
