{
 "cells": [
  {
   "cell_type": "code",
   "execution_count": 4,
   "metadata": {},
   "outputs": [],
   "source": [
    "import numpy as np\n",
    "import matplotlib.pyplot as plt"
   ]
  },
  {
   "cell_type": "markdown",
   "metadata": {},
   "source": [
    "# Практика 2\n",
    "Корешков"
   ]
  },
  {
   "cell_type": "markdown",
   "metadata": {},
   "source": [
    "## Задача 1.1\n",
    "Знайти одним з ітераційних методів дійсні корені рівнянь з точністю\n",
    "ε (наприклад ε=10−4).\n",
    "\n",
    "$$f(x) = x^3-5x^2+4x+0.092 = 0$$"
   ]
  },
  {
   "cell_type": "code",
   "execution_count": 9,
   "metadata": {},
   "outputs": [],
   "source": [
    "# Визначення функції\n",
    "def f(x):\n",
    "    return x**3 - 5*x**2 + 4*x + 0.092\n",
    "\n",
    "# визначення бажаної похибки значення\n",
    "eps = 1e-4"
   ]
  },
  {
   "cell_type": "markdown",
   "metadata": {},
   "source": [
    "## Приблизний аналіз\n",
    "Будуємо приблизний графік. Дивимося на знак значення функції.\n",
    "\n",
    "Оскільки у нас поліном, для поліномів є свої методи аналітичного пошуку кількості коренів та їх приблизного розташування. В тому числі:\n",
    "- пошук верхньої та нижньої межі додатних та від'ємних дійсних коренів\n",
    "- метод Штурма для визначення кількості та кратності коренів та наявності комплексних\n",
    "\n",
    "В резльтаті аналізу (можливо реалізувати програмно, але тут опущу цей етап) матимемо розбиття області визначення, кожна область якого має один корінь. "
   ]
  },
  {
   "cell_type": "code",
   "execution_count": 12,
   "metadata": {},
   "outputs": [
    {
     "data": {
      "image/png": "[encoded data removed]",
      "text/plain": [
       "<Figure size 640x480 with 1 Axes>"
      ]
     },
     "metadata": {},
     "output_type": "display_data"
    }
   ],
   "source": [
    "X = np.linspace(-5,5,10)\n",
    "Y = f(X)\n",
    "plt.scatter(X,Y, c=(Y>0))\n",
    "plt.grid()"
   ]
  },
  {
   "cell_type": "markdown",
   "metadata": {},
   "source": [
    "Вручну задам розбиття. Зауважу, що поліном 3 степеня може мати не більше 3 дійсних коренів"
   ]
  },
  {
   "cell_type": "code",
   "execution_count": 21,
   "metadata": {},
   "outputs": [
    {
     "data": {
      "image/png": "[encoded data removed]",
      "text/plain": [
       "<Figure size 640x480 with 1 Axes>"
      ]
     },
     "metadata": {},
     "output_type": "display_data"
    }
   ],
   "source": [
    "a1 = -1\n",
    "a2 = 0.5\n",
    "a3 = 2\n",
    "a4 = 5\n",
    "plt.scatter(X,Y, c=(Y>0))\n",
    "plt.grid()\n",
    "for a in [a1,a2,a3,a4]:\n",
    "    plt.axvline(a, c='r', lw=1)\n"
   ]
  },
  {
   "cell_type": "markdown",
   "metadata": {},
   "source": [
    "Далі треба застосувати один з ітеративних методів уточнення коренів для кожного інтервалу що має корінь"
   ]
  },
  {
   "cell_type": "markdown",
   "metadata": {},
   "source": [
    "## Метод 1. Бісекції"
   ]
  },
  {
   "cell_type": "code",
   "execution_count": 34,
   "metadata": {},
   "outputs": [],
   "source": [
    "# Шукає корінь `f` з точністю аргументу до `eps` у інтервалі `(a;b)` \n",
    "def bisect(f,a,b,eps):\n",
    "    fa = f(a)\n",
    "    fb = f(b)\n",
    "    N = 0\n",
    "\n",
    "    sa = fa>0\n",
    "    sb = fb>0\n",
    "    \n",
    "    dx = np.abs(a-b)\n",
    "    \n",
    "    while (dx > eps):\n",
    "        print(f\"n{N:2}: ({a:.5f} ; {b:.5f}), |a-b| = {dx:.5f} > eps\")\n",
    "        print(f\">  f(a) = {fa:.5f}\")\n",
    "        print(f\">  f(b) = {fb:.5f}\")\n",
    "\n",
    "        if (not sa^sb):\n",
    "            print(\"f(a) and f(b) has the same sign. Aborting.\")\n",
    "            return\n",
    "        \n",
    "        c = (a+b)/2\n",
    "        fc = f(c)\n",
    "        sc = fc>0\n",
    "        \n",
    "        print(f\">  c={c:.5f}\")\n",
    "        print(f\">  f(c) = {fc:.5f}\")\n",
    "\n",
    "        if not sa^sc:\n",
    "            # f(a), f(c) has the same sign. Root is in (c; b)\n",
    "            a = c\n",
    "            fa = fc\n",
    "            print(f\">  f(a)f(c)>0 => a <- c\")\n",
    "        elif not sb^sc:\n",
    "            # f(c), f(b) has the same sign. root is in (a; c)\n",
    "            b = c\n",
    "            fb = fc\n",
    "            print(f\">  f(c)f(b)>0 => b <- c\")\n",
    "        else:\n",
    "            print(\"something very wrong happened, aborting.\")\n",
    "\n",
    "        dx = np.abs(a-b)\n",
    "        N = N+1\n",
    "        \n",
    "    print()\n",
    "    print(f\"|a-b| = {dx:.5f} < eps = {eps:.5f}. Stopping after {N} iterations\")\n",
    "\n",
    "    x = (a+b)/2\n",
    "    fx = f(x)\n",
    "    print(f\"Finished. f(x*) = {fx:.5f} for x* = {x:.5f}\")\n"
   ]
  },
  {
   "cell_type": "code",
   "execution_count": 35,
   "metadata": {},
   "outputs": [
    {
     "name": "stdout",
     "output_type": "stream",
     "text": [
      "n 0: (-1.00000 ; 0.50000), |a-b| = 1.50000 > eps\n",
      ">  f(a) = -9.90800\n",
      ">  f(b) = 0.96700\n",
      ">  c=-0.25000\n",
      ">  f(c) = -1.23612\n",
      ">  f(a)f(c)>0 => a <- c\n",
      "n 1: (-0.25000 ; 0.50000), |a-b| = 0.75000 > eps\n",
      ">  f(a) = -1.23612\n",
      ">  f(b) = 0.96700\n",
      ">  c=0.12500\n",
      ">  f(c) = 0.51583\n",
      ">  f(c)f(b)>0 => b <- c\n",
      "n 2: (-0.25000 ; 0.12500), |a-b| = 0.37500 > eps\n",
      ">  f(a) = -1.23612\n",
      ">  f(b) = 0.51583\n",
      ">  c=-0.06250\n",
      ">  f(c) = -0.17778\n",
      ">  f(a)f(c)>0 => a <- c\n",
      "n 3: (-0.06250 ; 0.12500), |a-b| = 0.18750 > eps\n",
      ">  f(a) = -0.17778\n",
      ">  f(b) = 0.51583\n",
      ">  c=0.03125\n",
      ">  f(c) = 0.21215\n",
      ">  f(c)f(b)>0 => b <- c\n",
      "n 4: (-0.06250 ; 0.03125), |a-b| = 0.09375 > eps\n",
      ">  f(a) = -0.17778\n",
      ">  f(b) = 0.21215\n",
      ">  c=-0.01562\n",
      ">  f(c) = 0.02828\n",
      ">  f(c)f(b)>0 => b <- c\n",
      "n 5: (-0.06250 ; -0.01562), |a-b| = 0.04688 > eps\n",
      ">  f(a) = -0.17778\n",
      ">  f(b) = 0.02828\n",
      ">  c=-0.03906\n",
      ">  f(c) = -0.07194\n",
      ">  f(a)f(c)>0 => a <- c\n",
      "n 6: (-0.03906 ; -0.01562), |a-b| = 0.02344 > eps\n",
      ">  f(a) = -0.07194\n",
      ">  f(b) = 0.02828\n",
      ">  c=-0.02734\n",
      ">  f(c) = -0.02113\n",
      ">  f(a)f(c)>0 => a <- c\n",
      "n 7: (-0.02734 ; -0.01562), |a-b| = 0.01172 > eps\n",
      ">  f(a) = -0.02113\n",
      ">  f(b) = 0.02828\n",
      ">  c=-0.02148\n",
      ">  f(c) = 0.00374\n",
      ">  f(c)f(b)>0 => b <- c\n",
      "n 8: (-0.02734 ; -0.02148), |a-b| = 0.00586 > eps\n",
      ">  f(a) = -0.02113\n",
      ">  f(b) = 0.00374\n",
      ">  c=-0.02441\n",
      ">  f(c) = -0.00865\n",
      ">  f(a)f(c)>0 => a <- c\n",
      "n 9: (-0.02441 ; -0.02148), |a-b| = 0.00293 > eps\n",
      ">  f(a) = -0.00865\n",
      ">  f(b) = 0.00374\n",
      ">  c=-0.02295\n",
      ">  f(c) = -0.00244\n",
      ">  f(a)f(c)>0 => a <- c\n",
      "n10: (-0.02295 ; -0.02148), |a-b| = 0.00146 > eps\n",
      ">  f(a) = -0.00244\n",
      ">  f(b) = 0.00374\n",
      ">  c=-0.02222\n",
      ">  f(c) = 0.00065\n",
      ">  f(c)f(b)>0 => b <- c\n",
      "n11: (-0.02295 ; -0.02222), |a-b| = 0.00073 > eps\n",
      ">  f(a) = -0.00244\n",
      ">  f(b) = 0.00065\n",
      ">  c=-0.02258\n",
      ">  f(c) = -0.00089\n",
      ">  f(a)f(c)>0 => a <- c\n",
      "n12: (-0.02258 ; -0.02222), |a-b| = 0.00037 > eps\n",
      ">  f(a) = -0.00089\n",
      ">  f(b) = 0.00065\n",
      ">  c=-0.02240\n",
      ">  f(c) = -0.00012\n",
      ">  f(a)f(c)>0 => a <- c\n",
      "n13: (-0.02240 ; -0.02222), |a-b| = 0.00018 > eps\n",
      ">  f(a) = -0.00012\n",
      ">  f(b) = 0.00065\n",
      ">  c=-0.02231\n",
      ">  f(c) = 0.00027\n",
      ">  f(c)f(b)>0 => b <- c\n",
      "\n",
      "|a-b| = 0.00009 < eps = 0.00010. Stopping after 14 iterations\n",
      "Finished. f(x*) = 0.00007 for x* = -0.02235\n"
     ]
    }
   ],
   "source": [
    "bisect(f, a1, a2, 1e-4)"
   ]
  },
  {
   "cell_type": "code",
   "execution_count": 50,
   "metadata": {},
   "outputs": [
    {
     "data": {
      "text/plain": [
       "-0.00012003942400000411"
      ]
     },
     "execution_count": 50,
     "metadata": {},
     "output_type": "execute_result"
    }
   ],
   "source": [
    "f(-0.0224)"
   ]
  },
  {
   "cell_type": "code",
   "execution_count": 39,
   "metadata": {},
   "outputs": [
    {
     "name": "stdout",
     "output_type": "stream",
     "text": [
      "Теоретична оцінка кількості ітерацій:  13.872674880270605\n"
     ]
    }
   ],
   "source": [
    "# Теоретична оцінка кількості ітерацій\n",
    "print(f\"Теоретична оцінка кількості ітерацій: \", np.log2((a2-a1)/eps))"
   ]
  },
  {
   "cell_type": "markdown",
   "metadata": {},
   "source": [
    "Перший корінь \n",
    "$$x_1 = -0.0224$$\n",
    "\n",
    "Теоретично передбачено що вистачить 14 ітерацій. Фактично вийшло 14 ітерацій, що радує"
   ]
  },
  {
   "cell_type": "markdown",
   "metadata": {},
   "source": [
    "## Метод 2. Ньютона\n",
    "\n",
    "Другий корінь знайду іншим методом"
   ]
  },
  {
   "cell_type": "code",
   "execution_count": 42,
   "metadata": {},
   "outputs": [],
   "source": [
    "def newton(f,df,x0,eps):\n",
    "    prev_x = x0\n",
    "    x = np.inf\n",
    "    dx = np.inf\n",
    "    N = 0\n",
    "    while np.abs(dx) > eps:\n",
    "        fx = f(prev_x)\n",
    "        dfx = df(prev_x)\n",
    "        dx = fx/dfx\n",
    "        x = prev_x - dx\n",
    "        prev_x = x\n",
    "        print(f\"n {N:2}: new x = {x:.5f}\")\n",
    "        print(f\">  f(prev_x) = {fx:.5f}\")\n",
    "        print(f\">  f'(prev_x) = {dfx:.5f}\")\n",
    "        print(f\">  step = f(prev_x)/f'(prev_x) = {dx:.5f}\")\n",
    "        N += 1\n",
    "    print()\n",
    "    print(f\"Finished in {N} iterations because step = {dx:.5f} < eps = {eps:.5f}\")\n",
    "    print(f\"f(x*) = {f(x):.5f} for x* = {x:.5f}\")\n",
    "\n"
   ]
  },
  {
   "cell_type": "markdown",
   "metadata": {},
   "source": [
    "Також знайдемо похідну\n",
    "\n",
    "$$f(x) = x^3-5x^2+4x+0.092 = 0$$\n",
    "$$f'(x) = 3x^2 - 10x + 4$$"
   ]
  },
  {
   "cell_type": "code",
   "execution_count": 51,
   "metadata": {},
   "outputs": [
    {
     "name": "stdout",
     "output_type": "stream",
     "text": [
      "n  0: new x = 1.13697\n",
      ">  f(prev_x) = 0.70137\n",
      ">  f'(prev_x) = -1.81250\n",
      ">  step = f(prev_x)/f'(prev_x) = -0.38697\n",
      "n  1: new x = 1.03562\n",
      ">  f(prev_x) = -0.35385\n",
      ">  f'(prev_x) = -3.49158\n",
      ">  step = f(prev_x)/f'(prev_x) = 0.10134\n",
      "n  2: new x = 1.03009\n",
      ">  f(prev_x) = -0.01736\n",
      ">  f'(prev_x) = -3.13868\n",
      ">  step = f(prev_x)/f'(prev_x) = 0.00553\n",
      "n  3: new x = 1.03007\n",
      ">  f(prev_x) = -0.00006\n",
      ">  f'(prev_x) = -3.11765\n",
      ">  step = f(prev_x)/f'(prev_x) = 0.00002\n",
      "\n",
      "Finished in 4 iterations because step = 0.00002 < eps = 0.00010\n",
      "f(x*) = -0.00000 for x* = 1.03007\n"
     ]
    }
   ],
   "source": [
    "def df(x):\n",
    "    return 3*x**2 -10*x+4\n",
    "\n",
    "# Зауважу що у якості початкового наближення x* я взяв центр інтервалу, \n",
    "#   в якому очікую знайти корінь\n",
    "\n",
    "newton(f, df, (a3-a2)/2, 1e-4)"
   ]
  },
  {
   "cell_type": "code",
   "execution_count": 49,
   "metadata": {},
   "outputs": [
    {
     "data": {
      "text/plain": [
       "-8.474909899955363e-05"
      ]
     },
     "execution_count": 49,
     "metadata": {},
     "output_type": "execute_result"
    }
   ],
   "source": [
    "f(1.0301)"
   ]
  },
  {
   "cell_type": "code",
   "execution_count": 48,
   "metadata": {},
   "outputs": [
    {
     "name": "stdout",
     "output_type": "stream",
     "text": [
      "m = 6.5;   M = 2;   q = 0.23076923076923078\n",
      "Теоретична оцінка кількості ітерацій:  4.605256816017363\n"
     ]
    }
   ],
   "source": [
    "# Теоретична оцінка кількості ітерацій\n",
    "\n",
    "m = np.abs(2*(f(a3)-f(a2))/(a3-a2)) # чисельна оцінка m_1\n",
    "M = 6*a3 - 10 # чисельна оцінка M_2\n",
    "q = M*np.abs(a3-a2)/(2*m)\n",
    "print(f\"m = {m};   M = {M};   q = {q}\")\n",
    "\n",
    "ntheor = np.log2( np.log((a3-a2)/(2*eps)) / (-np.log(q)) ) + 2\n",
    "print(f\"Теоретична оцінка кількості ітерацій: \", ntheor)"
   ]
  },
  {
   "cell_type": "markdown",
   "metadata": {},
   "source": [
    "Другий корінь \n",
    "$$x_2 = 1.0301$$\n",
    "\n",
    "Теоретично передбачено що вистачить 5 ітерацій. Фактично вийшло 4 ітерацій, що радує"
   ]
  },
  {
   "cell_type": "markdown",
   "metadata": {},
   "source": [
    "---"
   ]
  },
  {
   "cell_type": "markdown",
   "metadata": {},
   "source": [
    "Третій корінь шукатиму аналогічно"
   ]
  },
  {
   "cell_type": "code",
   "execution_count": 52,
   "metadata": {},
   "outputs": [
    {
     "name": "stdout",
     "output_type": "stream",
     "text": [
      "n  0: new x = 1.08047\n",
      ">  f(prev_x) = -1.78300\n",
      ">  f'(prev_x) = -4.25000\n",
      ">  step = f(prev_x)/f'(prev_x) = 0.41953\n",
      "n  1: new x = 1.03146\n",
      ">  f(prev_x) = -0.16184\n",
      ">  f'(prev_x) = -3.30246\n",
      ">  step = f(prev_x)/f'(prev_x) = 0.04901\n",
      "n  2: new x = 1.03007\n",
      ">  f(prev_x) = -0.00434\n",
      ">  f'(prev_x) = -3.12289\n",
      ">  step = f(prev_x)/f'(prev_x) = 0.00139\n",
      "n  3: new x = 1.03007\n",
      ">  f(prev_x) = -0.00000\n",
      ">  f'(prev_x) = -3.11758\n",
      ">  step = f(prev_x)/f'(prev_x) = 0.00000\n",
      "\n",
      "Finished in 4 iterations because step = 0.00000 < eps = 0.00010\n",
      "f(x*) = -0.00000 for x* = 1.03007\n"
     ]
    }
   ],
   "source": [
    "newton(f, df, (a4-a3)/2, 1e-4)"
   ]
  },
  {
   "cell_type": "code",
   "execution_count": 53,
   "metadata": {},
   "outputs": [
    {
     "data": {
      "text/plain": [
       "1.5"
      ]
     },
     "execution_count": 53,
     "metadata": {},
     "output_type": "execute_result"
    }
   ],
   "source": [
    "(a4-a3)/2"
   ]
  },
  {
   "cell_type": "markdown",
   "metadata": {},
   "source": [
    "Бачимо що алгоритм знайшов другий корінь замість третього."
   ]
  },
  {
   "cell_type": "code",
   "execution_count": 55,
   "metadata": {},
   "outputs": [
    {
     "name": "stdout",
     "output_type": "stream",
     "text": [
      "n  0: new x = 4.30717\n",
      ">  f(prev_x) = 20.09200\n",
      ">  f'(prev_x) = 29.00000\n",
      ">  step = f(prev_x)/f'(prev_x) = 0.69283\n",
      "n  1: new x = 4.03778\n",
      ">  f(prev_x) = 4.46754\n",
      ">  f'(prev_x) = 16.58348\n",
      ">  step = f(prev_x)/f'(prev_x) = 0.26940\n",
      "n  2: new x = 3.99347\n",
      ">  f(prev_x) = 0.55535\n",
      ">  f'(prev_x) = 12.53314\n",
      ">  step = f(prev_x)/f'(prev_x) = 0.04431\n",
      "n  3: new x = 3.99230\n",
      ">  f(prev_x) = 0.01388\n",
      ">  f'(prev_x) = 11.90864\n",
      ">  step = f(prev_x)/f'(prev_x) = 0.00117\n",
      "n  4: new x = 3.99230\n",
      ">  f(prev_x) = 0.00001\n",
      ">  f'(prev_x) = 11.89237\n",
      ">  step = f(prev_x)/f'(prev_x) = 0.00000\n",
      "\n",
      "Finished in 5 iterations because step = 0.00000 < eps = 0.00010\n",
      "f(x*) = 0.00000 for x* = 3.99230\n"
     ]
    }
   ],
   "source": [
    "newton(f, df, a4, 1e-4)"
   ]
  },
  {
   "cell_type": "markdown",
   "metadata": {},
   "source": [
    "Тепер ок, інший корінь"
   ]
  },
  {
   "cell_type": "code",
   "execution_count": 56,
   "metadata": {},
   "outputs": [
    {
     "data": {
      "text/plain": [
       "1.4573467006867569e-05"
      ]
     },
     "execution_count": 56,
     "metadata": {},
     "output_type": "execute_result"
    }
   ],
   "source": [
    "f(3.9923)"
   ]
  },
  {
   "cell_type": "markdown",
   "metadata": {},
   "source": [
    "Спробуємо на цьому самому інтервалі методом дихотомії"
   ]
  },
  {
   "cell_type": "code",
   "execution_count": 57,
   "metadata": {},
   "outputs": [
    {
     "name": "stdout",
     "output_type": "stream",
     "text": [
      "n 0: (2.00000 ; 5.00000), |a-b| = 3.00000 > eps\n",
      ">  f(a) = -3.90800\n",
      ">  f(b) = 20.09200\n",
      ">  c=3.50000\n",
      ">  f(c) = -4.28300\n",
      ">  f(a)f(c)>0 => a <- c\n",
      "n 1: (3.50000 ; 5.00000), |a-b| = 1.50000 > eps\n",
      ">  f(a) = -4.28300\n",
      ">  f(b) = 20.09200\n",
      ">  c=4.25000\n",
      ">  f(c) = 3.54513\n",
      ">  f(c)f(b)>0 => b <- c\n",
      "n 2: (3.50000 ; 4.25000), |a-b| = 0.75000 > eps\n",
      ">  f(a) = -4.28300\n",
      ">  f(b) = 3.54513\n",
      ">  c=3.87500\n",
      ">  f(c) = -1.30058\n",
      ">  f(a)f(c)>0 => a <- c\n",
      "n 3: (3.87500 ; 4.25000), |a-b| = 0.37500 > eps\n",
      ">  f(a) = -1.30058\n",
      ">  f(b) = 3.54513\n",
      ">  c=4.06250\n",
      ">  f(c) = 0.86959\n",
      ">  f(c)f(b)>0 => b <- c\n",
      "n 4: (3.87500 ; 4.06250), |a-b| = 0.18750 > eps\n",
      ">  f(a) = -1.30058\n",
      ">  f(b) = 0.86959\n",
      ">  c=3.96875\n",
      ">  f(c) = -0.27619\n",
      ">  f(a)f(c)>0 => a <- c\n",
      "n 5: (3.96875 ; 4.06250), |a-b| = 0.09375 > eps\n",
      ">  f(a) = -0.27619\n",
      ">  f(b) = 0.86959\n",
      ">  c=4.01562\n",
      ">  f(c) = 0.28121\n",
      ">  f(c)f(b)>0 => b <- c\n",
      "n 6: (3.96875 ; 4.01562), |a-b| = 0.04688 > eps\n",
      ">  f(a) = -0.27619\n",
      ">  f(b) = 0.28121\n",
      ">  c=3.99219\n",
      ">  f(c) = -0.00132\n",
      ">  f(a)f(c)>0 => a <- c\n",
      "n 7: (3.99219 ; 4.01562), |a-b| = 0.02344 > eps\n",
      ">  f(a) = -0.00132\n",
      ">  f(b) = 0.28121\n",
      ">  c=4.00391\n",
      ">  f(c) = 0.13898\n",
      ">  f(c)f(b)>0 => b <- c\n",
      "n 8: (3.99219 ; 4.00391), |a-b| = 0.01172 > eps\n",
      ">  f(a) = -0.00132\n",
      ">  f(b) = 0.13898\n",
      ">  c=3.99805\n",
      ">  f(c) = 0.06859\n",
      ">  f(c)f(b)>0 => b <- c\n",
      "n 9: (3.99219 ; 3.99805), |a-b| = 0.00586 > eps\n",
      ">  f(a) = -0.00132\n",
      ">  f(b) = 0.06859\n",
      ">  c=3.99512\n",
      ">  f(c) = 0.03357\n",
      ">  f(c)f(b)>0 => b <- c\n",
      "n10: (3.99219 ; 3.99512), |a-b| = 0.00293 > eps\n",
      ">  f(a) = -0.00132\n",
      ">  f(b) = 0.03357\n",
      ">  c=3.99365\n",
      ">  f(c) = 0.01611\n",
      ">  f(c)f(b)>0 => b <- c\n",
      "n11: (3.99219 ; 3.99365), |a-b| = 0.00146 > eps\n",
      ">  f(a) = -0.00132\n",
      ">  f(b) = 0.01611\n",
      ">  c=3.99292\n",
      ">  f(c) = 0.00739\n",
      ">  f(c)f(b)>0 => b <- c\n",
      "n12: (3.99219 ; 3.99292), |a-b| = 0.00073 > eps\n",
      ">  f(a) = -0.00132\n",
      ">  f(b) = 0.00739\n",
      ">  c=3.99255\n",
      ">  f(c) = 0.00303\n",
      ">  f(c)f(b)>0 => b <- c\n",
      "n13: (3.99219 ; 3.99255), |a-b| = 0.00037 > eps\n",
      ">  f(a) = -0.00132\n",
      ">  f(b) = 0.00303\n",
      ">  c=3.99237\n",
      ">  f(c) = 0.00085\n",
      ">  f(c)f(b)>0 => b <- c\n",
      "n14: (3.99219 ; 3.99237), |a-b| = 0.00018 > eps\n",
      ">  f(a) = -0.00132\n",
      ">  f(b) = 0.00085\n",
      ">  c=3.99228\n",
      ">  f(c) = -0.00023\n",
      ">  f(a)f(c)>0 => a <- c\n",
      "\n",
      "|a-b| = 0.00009 < eps = 0.00010. Stopping after 15 iterations\n",
      "Finished. f(x*) = 0.00031 for x* = 3.99232\n"
     ]
    }
   ],
   "source": [
    "bisect(f, a3, a4, 1e-4)"
   ]
  },
  {
   "cell_type": "markdown",
   "metadata": {},
   "source": [
    "Очікувано, він знаходить потрібний корінь"
   ]
  }
 ],
 "metadata": {
  "kernelspec": {
   "display_name": "sci",
   "language": "python",
   "name": "python3"
  },
  "language_info": {
   "codemirror_mode": {
    "name": "ipython",
    "version": 3
   },
   "file_extension": ".py",
   "mimetype": "text/x-python",
   "name": "python",
   "nbconvert_exporter": "python",
   "pygments_lexer": "ipython3",
   "version": "3.11.0"
  },
  "orig_nbformat": 4
 },
 "nbformat": 4,
 "nbformat_minor": 2
}
