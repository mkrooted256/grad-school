{
 "cells": [
  {
   "cell_type": "code",
   "execution_count": 1,
   "metadata": {},
   "outputs": [],
   "source": [
    "import numpy as np\n",
    "import scipy as sp\n",
    "import pandas as pd"
   ]
  },
  {
   "cell_type": "markdown",
   "metadata": {},
   "source": [
    "Михайло Корешков  \n",
    "магістр КАУ, 2 курс, спеціальність математика  \n",
    "\n",
    "Статистика  \n",
    "Домашнє завдання 2"
   ]
  },
  {
   "cell_type": "markdown",
   "metadata": {},
   "source": [
    "## Завдання 1\n",
    "Дано 16 вимірювань температури в цельсіях.\n",
    "Знайти вибіркове середнє, вибіркову дисперсію, вибіркову медіану в цельсіях, кельвінах, фаренгейтах."
   ]
  },
  {
   "cell_type": "code",
   "execution_count": 52,
   "metadata": {},
   "outputs": [
    {
     "name": "stdout",
     "output_type": "stream",
     "text": [
      "Все ок\n"
     ]
    }
   ],
   "source": [
    "C = np.array([27, 26, 24, 22, 20, 19, 22, 22, 22, 27, 29, 29, 18, 14, 20, 22])\n",
    "assert len(C) == 16\n",
    "print(\"Все ок\")"
   ]
  },
  {
   "cell_type": "markdown",
   "metadata": {},
   "source": [
    "Фаренгейти та Кельвіни обчислюються отак: \n",
    "```\n",
    "F = C * 1.8 + 32\n",
    "K = C + 273.15\n",
    "```\n",
    "\n",
    "Перевіряю реалізацію ключовими температурами: \n",
    "- абсолютний ноль\n",
    "- точка замерзання солоної води нижча за звичайної води\n",
    "- цельсій та фаренгейт співпадають на -40 "
   ]
  },
  {
   "cell_type": "code",
   "execution_count": 51,
   "metadata": {},
   "outputs": [
    {
     "name": "stdout",
     "output_type": "stream",
     "text": [
      "Все ок\n"
     ]
    }
   ],
   "source": [
    "def c2f(c): return 1.8 * c + 32\n",
    "def c2k(c): return c + 273.15\n",
    "\n",
    "assert c2k(-273.15) == 0\n",
    "assert c2f(0) > 0\n",
    "assert c2f(-40) == -40\n",
    "print(\"Все ок\")\n"
   ]
  },
  {
   "cell_type": "code",
   "execution_count": 5,
   "metadata": {},
   "outputs": [
    {
     "data": {
      "text/plain": [
       "array([80.6, 78.8, 75.2, 71.6, 68. , 66.2, 71.6, 71.6, 71.6, 80.6, 84.2,\n",
       "       84.2, 64.4, 57.2, 68. , 71.6])"
      ]
     },
     "execution_count": 5,
     "metadata": {},
     "output_type": "execute_result"
    }
   ],
   "source": [
    "F = c2f(C)\n",
    "F"
   ]
  },
  {
   "cell_type": "code",
   "execution_count": 6,
   "metadata": {},
   "outputs": [
    {
     "data": {
      "text/plain": [
       "array([300.15, 299.15, 297.15, 295.15, 293.15, 292.15, 295.15, 295.15,\n",
       "       295.15, 300.15, 302.15, 302.15, 291.15, 287.15, 293.15, 295.15])"
      ]
     },
     "execution_count": 6,
     "metadata": {},
     "output_type": "execute_result"
    }
   ],
   "source": [
    "K = c2k(C)\n",
    "K"
   ]
  },
  {
   "cell_type": "markdown",
   "metadata": {},
   "source": [
    "Самостійна реалізація статистик, щоб перевірити, що я правильно розумію як вони обчислюються.\n",
    "Перевіряю на випадковій вибірці парної і непарної довжини (щоб перевірити обчислення медіани)."
   ]
  },
  {
   "cell_type": "code",
   "execution_count": 50,
   "metadata": {},
   "outputs": [
    {
     "name": "stdout",
     "output_type": "stream",
     "text": [
      "Все ок\n"
     ]
    }
   ],
   "source": [
    "def s_mean(X): \n",
    "    return X.sum() / len(X)\n",
    "def s_var(X): \n",
    "    return ((X - s_mean(X))**2).sum() / len(X)\n",
    "def s_med(X): \n",
    "    sorted = np.sort(X)\n",
    "    a = int(np.floor((len(X)-1) / 2))\n",
    "    b = int(np.ceil((len(X)-1) / 2))\n",
    "    return (sorted[a] + sorted[b])/2\n",
    "\n",
    "_rnd = np.random.randint(-100,100,16)\n",
    "assert s_mean(_rnd) == _rnd.mean()\n",
    "assert s_var(_rnd) == _rnd.var()\n",
    "assert s_med(_rnd) == np.median(_rnd), f\"{_rnd=}\\n{s_med(_rnd)=} {np.median(_rnd)=}\"\n",
    "\n",
    "_rnd = np.random.randint(-100,100,17)\n",
    "assert s_mean(_rnd) == _rnd.mean()\n",
    "assert s_var(_rnd) == _rnd.var()\n",
    "assert s_med(_rnd) == np.median(_rnd), f\"{_rnd=}\\n{s_med(_rnd)=} {np.median(_rnd)=}\"\n",
    "print(\"Все ок\")"
   ]
  },
  {
   "cell_type": "markdown",
   "metadata": {},
   "source": [
    "надалі користуватимусь функціями numpy"
   ]
  },
  {
   "cell_type": "code",
   "execution_count": 44,
   "metadata": {},
   "outputs": [
    {
     "name": "stdout",
     "output_type": "stream",
     "text": [
      "Середнє, Цельсій:  22.6875\n",
      "Середнє, Кельвін:  295.8375\n",
      "Середнє, Фаренгейт:  72.8375\n",
      "Дисперсія, Цельсій:  16.08984375\n",
      "Дисперсія, Кельвін:  16.08984375\n",
      "Дисперсія, Фаренгейт:  52.13109375\n",
      "Медіана, Цельсій:  22.0\n",
      "Медіана, Кельвін:  295.15\n",
      "Медіана, Фаренгейт:  71.6\n"
     ]
    }
   ],
   "source": [
    "print(\"Середнє, Цельсій: \", C.mean())\n",
    "print(\"Середнє, Кельвін: \", K.mean())\n",
    "print(\"Середнє, Фаренгейт: \", F.mean())\n",
    "\n",
    "print(\"Дисперсія, Цельсій: \", C.var())\n",
    "print(\"Дисперсія, Кельвін: \", K.var())\n",
    "print(\"Дисперсія, Фаренгейт: \", F.var())\n",
    "\n",
    "print(\"Медіана, Цельсій: \", np.median(C))\n",
    "print(\"Медіана, Кельвін: \", np.median(K))\n",
    "print(\"Медіана, Фаренгейт: \", np.median(F))"
   ]
  },
  {
   "cell_type": "markdown",
   "metadata": {},
   "source": [
    "Перевіримо деякі твердження про ці статистики.\n",
    "1. Вибіркова медіана лінійна\n",
    "2. Вибіркове середнє лінійне\n",
    "3. Вибіркова дисперсія не змінюється при додаванні константи\n",
    "4. Константи під вибірковою дисперсією при множенні виносяться у квадраті"
   ]
  },
  {
   "cell_type": "code",
   "execution_count": 49,
   "metadata": {},
   "outputs": [
    {
     "name": "stdout",
     "output_type": "stream",
     "text": [
      "Все ок\n"
     ]
    }
   ],
   "source": [
    "assert np.median(K) == c2k(np.median(C))\n",
    "assert np.median(F) == c2f(np.median(C))\n",
    "\n",
    "assert K.mean() == c2k(C.mean())\n",
    "assert F.mean() == c2f(C.mean())\n",
    "\n",
    "assert K.var() == C.var()\n",
    "assert np.abs(F.var() - C.var() * 1.8**2) < 1e-6\n",
    "\n",
    "print(\"Все ок\")"
   ]
  },
  {
   "cell_type": "markdown",
   "metadata": {},
   "source": [
    "## Завдання 2"
   ]
  },
  {
   "cell_type": "markdown",
   "metadata": {},
   "source": [
    "$X_k - i.i.d$  \n",
    "$P(X_1 = -1) = P(X_1 = 0) = \\alpha$  \n",
    "$P(X_1 = 1) = 1-2\\alpha$  \n",
    "$\\alpha \\in [0, 0.5]$  \n",
    "\n",
    "Побудувати незміщену консистентну оцінку $\\alpha$ за наступних умов\n",
    "\n",
    "1. Відома вся вибірка \n",
    "2. Відоме лише вибіркове середнє\n",
    "3. Відома лише кількість нулів\n",
    "4. Відома лише величина $Y_n = \\sum_{k=1}^nX^2_k$\n",
    "\n",
    "Порівняти дисперсію"
   ]
  },
  {
   "cell_type": "markdown",
   "metadata": {},
   "source": [
    "\n",
    "### a) Відома вся вибірка $X_1, ..., X_n$\n",
    "\n",
    "(я робив це на практиці, але все одно почну спочатку)\n",
    "\n",
    "Обчислю матсподівання $X$, може там щось корисне.\n",
    "\n",
    "$MX = \\sum_{x = -1,0,1} x P(X=x) = -\\alpha + 0 \\alpha + (1-2\\alpha) = 1-3\\alpha$  \n",
    "$\\alpha = (1-MX)/3$\n",
    "\n",
    "$$MX = 1-3\\alpha$$\n",
    "\n",
    "\n",
    "Прекрасно, таким чином за методом моментів  \n",
    "$\\hat \\alpha_1 = (1-m)/3$,  \n",
    "де $m=\\overline X$ \n",
    "\n",
    "$M\\hat\\alpha_1 = M\\left((1-m)/3\\right) = (1-M\\overline X)/3 = (1 - (1-3\\alpha))/3 = \\alpha$, звісно. \n",
    "\n",
    "$$M\\hat\\alpha_1 = \\alpha$$\n",
    "\n",
    "Оцінка $\\hat\\alpha_1$ незміщена\n",
    "\n",
    "Вибіркове середнє - це консистентна оцінка матсподівання, за законом великих чисел.\n",
    "Консистентність $\\hat\\alpha_1$ отримуємо з того, що $f(x) = (1-x)/3$ є неперервною функцією, а неперервні функції зберігають збіжність за ймовірністю.\n",
    "\n",
    "$\\overline X_n \\longrightarrow MX$ при $n\\to\\infty$  \n",
    "$(1-\\overline X_n)/3 \\longrightarrow (1-MX)/3$ при $n\\to\\infty$  \n",
    "$\\hat\\alpha_1 \\longrightarrow \\alpha$ при $n\\to\\infty$  \n",
    "\n",
    "Отже, $\\hat\\alpha_1 = (1-\\overline X)/3$ - незміщена та консистентна\n",
    "\n",
    "$MX^2 = 1 \\alpha + 0 \\alpha + 1 (1-2\\alpha) = 1-\\alpha$\n",
    "\n",
    "$DX = MX^2 - (MX)^2 = 1-\\alpha - (1-6\\alpha+9\\alpha^2) = 5\\alpha -9\\alpha^2$\n",
    "\n",
    "$$DX = 5\\alpha - 9\\alpha^2$$\n",
    "\n",
    "$D\\hat\\alpha_1 = D\\left((1-\\overline X)/3\\right) = \\frac{1}{9} D(1-\\overline X) = \\frac{1}{9} D(\\overline X) =\n",
    "\\frac{1}{9n} D(X)$  \n",
    "$$D\\hat\\alpha_1 = \\frac{5\\alpha-9\\alpha^2}{9n} = \\frac{\\frac{5}{9}\\alpha-\\alpha^2}{n}$$\n",
    "\n"
   ]
  },
  {
   "cell_type": "markdown",
   "metadata": {},
   "source": [
    "### b) Відоме лише вибіркове середнє $\\overline X_n$\n",
    "\n",
    "Власне, оцінка $\\hat\\alpha_1 = (1-\\overline X)/3$ нам підходить"
   ]
  },
  {
   "cell_type": "markdown",
   "metadata": {},
   "source": [
    "### c) Відома лише кількість нулів у вибірці\n",
    "\n",
    "$Z_n = \\sum_{k=1}^n 1(X_k=0)$\n",
    "\n",
    "Спробуємо обчислити матсподівання $Z_n$ і подивитись що буде.\n",
    "\n",
    "$MZ_n = \\sum_{k=1}^n P(X_k = 0) = n\\alpha$  \n",
    "$\\alpha = MZ_n / n$\n",
    "\n",
    "Можна помітити що частка нульових елементів точно співпадає з параметром $\\alpha$, тобто нам підійде $\\hat\\alpha_3 = Z_n / n$.  \n",
    "$M(\\hat\\alpha_3) = M(Z_n / n) = n\\alpha / n = \\alpha$\n",
    "\n",
    "$$M\\hat\\alpha_3 = \\alpha$$\n",
    "Маємо незміщену оцінку\n",
    "\n",
    "За законом великих чисел,  \n",
    "$Z_n / n \\longrightarrow P(X = 0) = \\alpha$  \n",
    "Отже, оцінка ще і консистентна.\n",
    "\n",
    "$M1(x_k=0) = \\alpha$    \n",
    "$D1(x_k=0) = M(1(x_k=0) - \\alpha)^2 = \\alpha \\cdot \\alpha^2 + \\alpha \\cdot (1-\\alpha)^2 + (1-2\\alpha) \\cdot \\alpha^2 =$  \n",
    "$= \\alpha^3 + \\alpha - 2\\alpha^2 + \\alpha^3 + \\alpha^2 - 2\\alpha^3 = \\alpha - \\alpha^2$\n",
    "\n",
    "$D\\hat\\alpha_3 = D\\bigr(\\sum 1(x_k=0) / n \\bigl) = \\frac{D1(x_k=0)}{n} = \\frac{\\alpha-\\alpha^2}{n}$\n",
    "\n",
    "$$D\\hat\\alpha_3 = \\frac{\\alpha-\\alpha^2}{n} \\ge \\frac{\\frac{5}{9}\\alpha-\\alpha^2}{n} = D\\hat\\alpha_1$$\n"
   ]
  },
  {
   "cell_type": "markdown",
   "metadata": {},
   "source": [
    "### d) Відома лише величина Y\n",
    "$Y_n = \\sum_{k=1}^n X^2_k$\n",
    "\n",
    "Фактично, величина $Y$ дає кількість ненульових величин. \n",
    "\n",
    "$Y_n = \\sum_{k=1}^n 1(X_k \\ne 0)$\n",
    "\n",
    "Але тоді  \n",
    "$Y_n = n - Z_n$\n",
    "\n",
    "І тоді можна отримати попередню оцінку,  \n",
    "$\\hat\\alpha_3 = n - Z_n$"
   ]
  },
  {
   "cell_type": "code",
   "execution_count": null,
   "metadata": {},
   "outputs": [],
   "source": []
  }
 ],
 "metadata": {
  "kernelspec": {
   "display_name": "sci",
   "language": "python",
   "name": "python3"
  },
  "language_info": {
   "codemirror_mode": {
    "name": "ipython",
    "version": 3
   },
   "file_extension": ".py",
   "mimetype": "text/x-python",
   "name": "python",
   "nbconvert_exporter": "python",
   "pygments_lexer": "ipython3",
   "version": "3.11.0"
  }
 },
 "nbformat": 4,
 "nbformat_minor": 2
}
