{
 "cells": [
  {
   "attachments": {
    "image.png": {
     "image/png": "[encoded data removed]"
    }
   },
   "cell_type": "markdown",
   "metadata": {},
   "source": [
    "# Алгебри Лі. ДЗ 2.\n",
    "Михайло Корешков, 2024\n",
    "\n",
    "![image.png](attachment:image.png)\n",
    "\n",
    "Вибачте, я не готовий рахувати таку кількість диференціалів вручну"
   ]
  },
  {
   "cell_type": "code",
   "execution_count": 90,
   "metadata": {},
   "outputs": [],
   "source": [
    "import sympy as sym\n",
    "from sympy import symbols, Function, Derivative as D, sin, cos, tan, diff, Matrix\n",
    "import numpy as np\n",
    "from sympy import init_printing, latex\n",
    "from IPython.display import display, Math"
   ]
  },
  {
   "cell_type": "code",
   "execution_count": 91,
   "metadata": {},
   "outputs": [],
   "source": [
    "f = symbols('f', cls=Function)\n",
    "x,y = symbols('x y')\n",
    "f = f(x,y)"
   ]
  },
  {
   "cell_type": "code",
   "execution_count": 92,
   "metadata": {},
   "outputs": [
    {
     "data": {
      "text/latex": [
       "$\\displaystyle b_1 = - \\sin{\\left(x \\right)} \\tan{\\left(y \\right)} \\frac{\\partial}{\\partial x} f{\\left(x,y \\right)} - \\cos{\\left(x \\right)} \\frac{\\partial}{\\partial y} f{\\left(x,y \\right)}$"
      ],
      "text/plain": [
       "<IPython.core.display.Math object>"
      ]
     },
     "metadata": {},
     "output_type": "display_data"
    },
    {
     "data": {
      "text/latex": [
       "$\\displaystyle b_2 = \\sin{\\left(x \\right)} \\frac{\\partial}{\\partial y} f{\\left(x,y \\right)} - \\cos{\\left(x \\right)} \\tan{\\left(y \\right)} \\frac{\\partial}{\\partial x} f{\\left(x,y \\right)}$"
      ],
      "text/plain": [
       "<IPython.core.display.Math object>"
      ]
     },
     "metadata": {},
     "output_type": "display_data"
    },
    {
     "data": {
      "text/latex": [
       "$\\displaystyle b_3 = \\frac{\\partial}{\\partial x} f{\\left(x,y \\right)}$"
      ],
      "text/plain": [
       "<IPython.core.display.Math object>"
      ]
     },
     "metadata": {},
     "output_type": "display_data"
    }
   ],
   "source": [
    "b1 = -sin(x)*tan(y)*D(f,x) - cos(x)*D(f,y)\n",
    "b2 = -cos(x)*tan(y)*D(f,x) +sin(x)*D(f,y)\n",
    "b3 = D(f,x)\n",
    "b = [b1,b2,b3]\n",
    "\n",
    "for n,i in enumerate(b): display(Math(f\"b_{n+1} = \" + latex(i)))"
   ]
  },
  {
   "cell_type": "code",
   "execution_count": 93,
   "metadata": {},
   "outputs": [],
   "source": [
    "def mu(x,y):\n",
    "    return x.subs(f,y) - y.subs(f,x)"
   ]
  },
  {
   "cell_type": "code",
   "execution_count": 94,
   "metadata": {},
   "outputs": [
    {
     "data": {
      "text/latex": [
       "$\\displaystyle \\left[b_1, b_1\\right] = 0$"
      ],
      "text/plain": [
       "<IPython.core.display.Math object>"
      ]
     },
     "metadata": {},
     "output_type": "display_data"
    },
    {
     "data": {
      "text/latex": [
       "$\\displaystyle \\left[b_1, b_2\\right] = - \\sin{\\left(x \\right)} \\tan{\\left(y \\right)} \\frac{\\partial}{\\partial x} \\left(\\sin{\\left(x \\right)} \\frac{\\partial}{\\partial y} f{\\left(x,y \\right)} - \\cos{\\left(x \\right)} \\tan{\\left(y \\right)} \\frac{\\partial}{\\partial x} f{\\left(x,y \\right)}\\right) - \\sin{\\left(x \\right)} \\frac{\\partial}{\\partial y} \\left(- \\sin{\\left(x \\right)} \\tan{\\left(y \\right)} \\frac{\\partial}{\\partial x} f{\\left(x,y \\right)} - \\cos{\\left(x \\right)} \\frac{\\partial}{\\partial y} f{\\left(x,y \\right)}\\right) + \\cos{\\left(x \\right)} \\tan{\\left(y \\right)} \\frac{\\partial}{\\partial x} \\left(- \\sin{\\left(x \\right)} \\tan{\\left(y \\right)} \\frac{\\partial}{\\partial x} f{\\left(x,y \\right)} - \\cos{\\left(x \\right)} \\frac{\\partial}{\\partial y} f{\\left(x,y \\right)}\\right) - \\cos{\\left(x \\right)} \\frac{\\partial}{\\partial y} \\left(\\sin{\\left(x \\right)} \\frac{\\partial}{\\partial y} f{\\left(x,y \\right)} - \\cos{\\left(x \\right)} \\tan{\\left(y \\right)} \\frac{\\partial}{\\partial x} f{\\left(x,y \\right)}\\right)$"
      ],
      "text/plain": [
       "<IPython.core.display.Math object>"
      ]
     },
     "metadata": {},
     "output_type": "display_data"
    },
    {
     "data": {
      "text/latex": [
       "$\\displaystyle \\left[b_1, b_3\\right] = - \\sin{\\left(x \\right)} \\tan{\\left(y \\right)} \\frac{\\partial^{2}}{\\partial x^{2}} f{\\left(x,y \\right)} - \\cos{\\left(x \\right)} \\frac{\\partial^{2}}{\\partial y\\partial x} f{\\left(x,y \\right)} - \\frac{\\partial}{\\partial x} \\left(- \\sin{\\left(x \\right)} \\tan{\\left(y \\right)} \\frac{\\partial}{\\partial x} f{\\left(x,y \\right)} - \\cos{\\left(x \\right)} \\frac{\\partial}{\\partial y} f{\\left(x,y \\right)}\\right)$"
      ],
      "text/plain": [
       "<IPython.core.display.Math object>"
      ]
     },
     "metadata": {},
     "output_type": "display_data"
    },
    {
     "data": {
      "text/latex": [
       "$\\displaystyle \\left[b_2, b_2\\right] = 0$"
      ],
      "text/plain": [
       "<IPython.core.display.Math object>"
      ]
     },
     "metadata": {},
     "output_type": "display_data"
    },
    {
     "data": {
      "text/latex": [
       "$\\displaystyle \\left[b_2, b_3\\right] = \\sin{\\left(x \\right)} \\frac{\\partial^{2}}{\\partial y\\partial x} f{\\left(x,y \\right)} - \\cos{\\left(x \\right)} \\tan{\\left(y \\right)} \\frac{\\partial^{2}}{\\partial x^{2}} f{\\left(x,y \\right)} - \\frac{\\partial}{\\partial x} \\left(\\sin{\\left(x \\right)} \\frac{\\partial}{\\partial y} f{\\left(x,y \\right)} - \\cos{\\left(x \\right)} \\tan{\\left(y \\right)} \\frac{\\partial}{\\partial x} f{\\left(x,y \\right)}\\right)$"
      ],
      "text/plain": [
       "<IPython.core.display.Math object>"
      ]
     },
     "metadata": {},
     "output_type": "display_data"
    },
    {
     "data": {
      "text/latex": [
       "$\\displaystyle \\left[b_3, b_3\\right] = 0$"
      ],
      "text/plain": [
       "<IPython.core.display.Math object>"
      ]
     },
     "metadata": {},
     "output_type": "display_data"
    }
   ],
   "source": [
    "c = Matrix.zeros(3,3)\n",
    "for n,i in enumerate(b):\n",
    "    for m,j in enumerate(b[n:],start=n):\n",
    "        c[n,m] = mu(i,j)\n",
    "        c[m,n] = c[n,m]\n",
    "        display(Math(f\"\\left[b_{n+1}, b_{m+1}\\\\right] = {latex(c[n,m])}\"))"
   ]
  },
  {
   "cell_type": "code",
   "execution_count": 95,
   "metadata": {},
   "outputs": [
    {
     "data": {
      "text/latex": [
       "$\\displaystyle \\left[b_1, b_1\\right] = 0$"
      ],
      "text/plain": [
       "<IPython.core.display.Math object>"
      ]
     },
     "metadata": {},
     "output_type": "display_data"
    },
    {
     "data": {
      "text/latex": [
       "$\\displaystyle \\left[b_1, b_2\\right] = \\frac{\\partial}{\\partial x} f{\\left(x,y \\right)}$"
      ],
      "text/plain": [
       "<IPython.core.display.Math object>"
      ]
     },
     "metadata": {},
     "output_type": "display_data"
    },
    {
     "data": {
      "text/latex": [
       "$\\displaystyle \\left[b_1, b_3\\right] = - \\sin{\\left(x \\right)} \\frac{\\partial}{\\partial y} f{\\left(x,y \\right)} + \\cos{\\left(x \\right)} \\tan{\\left(y \\right)} \\frac{\\partial}{\\partial x} f{\\left(x,y \\right)}$"
      ],
      "text/plain": [
       "<IPython.core.display.Math object>"
      ]
     },
     "metadata": {},
     "output_type": "display_data"
    },
    {
     "data": {
      "text/latex": [
       "$\\displaystyle \\left[b_2, b_2\\right] = 0$"
      ],
      "text/plain": [
       "<IPython.core.display.Math object>"
      ]
     },
     "metadata": {},
     "output_type": "display_data"
    },
    {
     "data": {
      "text/latex": [
       "$\\displaystyle \\left[b_2, b_3\\right] = - \\sin{\\left(x \\right)} \\tan{\\left(y \\right)} \\frac{\\partial}{\\partial x} f{\\left(x,y \\right)} - \\cos{\\left(x \\right)} \\frac{\\partial}{\\partial y} f{\\left(x,y \\right)}$"
      ],
      "text/plain": [
       "<IPython.core.display.Math object>"
      ]
     },
     "metadata": {},
     "output_type": "display_data"
    },
    {
     "data": {
      "text/latex": [
       "$\\displaystyle \\left[b_3, b_3\\right] = 0$"
      ],
      "text/plain": [
       "<IPython.core.display.Math object>"
      ]
     },
     "metadata": {},
     "output_type": "display_data"
    }
   ],
   "source": [
    "simple_c = Matrix.zeros(3,3)\n",
    "for n,i in enumerate(b):\n",
    "    for m,j in enumerate(b[n:],start=n):\n",
    "        simple_c[n,m] = c[n,m].doit().simplify()\n",
    "        display(Math(f\"\\left[b_{n+1}, b_{m+1}\\\\right] = {latex(simple_c[n,m])}\"))"
   ]
  },
  {
   "cell_type": "code",
   "execution_count": 96,
   "metadata": {},
   "outputs": [],
   "source": [
    "def test_literal_equality(x,y,lhs='',rhs=''):\n",
    "    if lhs: lhs = lhs + \" = \"\n",
    "    if rhs: rhs = \" = \" + rhs\n",
    "    is_equal = (x==y)\n",
    "    sign = ' = ' if is_equal else ' \\\\neq '\n",
    "    sign = ' \\quad' + sign + '\\quad '\n",
    "    color = 'green' if is_equal else 'red'\n",
    "    text = \"\\\\color{\" + color + \"}{\" + lhs + latex(x) + sign + latex(y) + rhs +\"}\"\n",
    "    display(Math(text))\n",
    "    return is_equal"
   ]
  },
  {
   "cell_type": "code",
   "execution_count": 97,
   "metadata": {},
   "outputs": [
    {
     "data": {
      "text/latex": [
       "$\\displaystyle \\color{green}{\\left[ b_1, b_2 \\right] = \\frac{\\partial}{\\partial x} f{\\left(x,y \\right)} \\quad = \\quad \\frac{\\partial}{\\partial x} f{\\left(x,y \\right)} = b_3}$"
      ],
      "text/plain": [
       "<IPython.core.display.Math object>"
      ]
     },
     "metadata": {},
     "output_type": "display_data"
    },
    {
     "data": {
      "text/latex": [
       "$\\displaystyle \\color{green}{\\left[ b_1, b_3 \\right] = - \\sin{\\left(x \\right)} \\frac{\\partial}{\\partial y} f{\\left(x,y \\right)} + \\cos{\\left(x \\right)} \\tan{\\left(y \\right)} \\frac{\\partial}{\\partial x} f{\\left(x,y \\right)} \\quad = \\quad - \\sin{\\left(x \\right)} \\frac{\\partial}{\\partial y} f{\\left(x,y \\right)} + \\cos{\\left(x \\right)} \\tan{\\left(y \\right)} \\frac{\\partial}{\\partial x} f{\\left(x,y \\right)} = -b_2}$"
      ],
      "text/plain": [
       "<IPython.core.display.Math object>"
      ]
     },
     "metadata": {},
     "output_type": "display_data"
    },
    {
     "data": {
      "text/latex": [
       "$\\displaystyle \\color{green}{\\left[ b_2, b_3 \\right] = - \\sin{\\left(x \\right)} \\tan{\\left(y \\right)} \\frac{\\partial}{\\partial x} f{\\left(x,y \\right)} - \\cos{\\left(x \\right)} \\frac{\\partial}{\\partial y} f{\\left(x,y \\right)} \\quad = \\quad - \\sin{\\left(x \\right)} \\tan{\\left(y \\right)} \\frac{\\partial}{\\partial x} f{\\left(x,y \\right)} - \\cos{\\left(x \\right)} \\frac{\\partial}{\\partial y} f{\\left(x,y \\right)} = b_1}$"
      ],
      "text/plain": [
       "<IPython.core.display.Math object>"
      ]
     },
     "metadata": {},
     "output_type": "display_data"
    },
    {
     "data": {
      "text/plain": [
       "True"
      ]
     },
     "execution_count": 97,
     "metadata": {},
     "output_type": "execute_result"
    }
   ],
   "source": [
    "test_literal_equality(simple_c[0,1], b3, '\\\\left[ b_1, b_2 \\\\right]', 'b_3')\n",
    "test_literal_equality(simple_c[0,2], -b2, '\\\\left[ b_1, b_3 \\\\right]', '-b_2')\n",
    "test_literal_equality(simple_c[1,2], b1, '\\\\left[ b_2, b_3 \\\\right]', 'b_1')"
   ]
  },
  {
   "cell_type": "markdown",
   "metadata": {},
   "source": [
    "Отже, \n",
    "$$[b_1, b_2] = b_3$$\n",
    "$$[b_2, b_3] = b_1$$\n",
    "$$[b_3, b_1] = b_2$$\n",
    "Тобто маємо алгебру $so(3)$"
   ]
  },
  {
   "cell_type": "code",
   "execution_count": null,
   "metadata": {},
   "outputs": [],
   "source": []
  }
 ],
 "metadata": {
  "kernelspec": {
   "display_name": "sci",
   "language": "python",
   "name": "python3"
  },
  "language_info": {
   "codemirror_mode": {
    "name": "ipython",
    "version": 3
   },
   "file_extension": ".py",
   "mimetype": "text/x-python",
   "name": "python",
   "nbconvert_exporter": "python",
   "pygments_lexer": "ipython3",
   "version": "3.11.0"
  }
 },
 "nbformat": 4,
 "nbformat_minor": 2
}
