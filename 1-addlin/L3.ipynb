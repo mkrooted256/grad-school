{
 "cells": [
  {
   "cell_type": "code",
   "execution_count": 2,
   "metadata": {},
   "outputs": [],
   "source": [
    "import numpy as np\n",
    "import scipy as sp"
   ]
  },
  {
   "cell_type": "code",
   "execution_count": 3,
   "metadata": {},
   "outputs": [],
   "source": [
    "A = np.array([\n",
    "    [1,2,3,4,5],\n",
    "    [1,0,2,3,4],\n",
    "    [2,-2,3,-3,5],\n",
    "    [2,2,5,7,9],\n",
    "])"
   ]
  },
  {
   "cell_type": "code",
   "execution_count": 5,
   "metadata": {},
   "outputs": [
    {
     "data": {
      "text/plain": [
       "array([[3.],\n",
       "       [2.],\n",
       "       [1.],\n",
       "       [5.]])"
      ]
     },
     "execution_count": 5,
     "metadata": {},
     "output_type": "execute_result"
    }
   ],
   "source": [
    "m = A.mean(axis=1, keepdims=True)\n",
    "m"
   ]
  },
  {
   "cell_type": "code",
   "execution_count": 6,
   "metadata": {},
   "outputs": [
    {
     "data": {
      "text/plain": [
       "array([[-2., -1.,  0.,  1.,  2.],\n",
       "       [-1., -2.,  0.,  1.,  2.],\n",
       "       [ 1., -3.,  2., -4.,  4.],\n",
       "       [-3., -3.,  0.,  2.,  4.]])"
      ]
     },
     "execution_count": 6,
     "metadata": {},
     "output_type": "execute_result"
    }
   ],
   "source": [
    "A1 = A-m\n",
    "A1"
   ]
  },
  {
   "cell_type": "code",
   "execution_count": 10,
   "metadata": {},
   "outputs": [
    {
     "data": {
      "text/plain": [
       "array([[-2., -1.,  0.,  1.,  2.],\n",
       "       [-1., -2.,  0.,  1.,  2.],\n",
       "       [ 1., -3.,  2., -4.,  4.],\n",
       "       [-3., -3.,  0.,  2.,  4.],\n",
       "       [ 1.,  1.,  1.,  1.,  1.]])"
      ]
     },
     "execution_count": 10,
     "metadata": {},
     "output_type": "execute_result"
    }
   ],
   "source": [
    "A2 = np.vstack([A1, np.array([1,1,1,1,1])])\n",
    "A2"
   ]
  },
  {
   "cell_type": "code",
   "execution_count": 11,
   "metadata": {},
   "outputs": [
    {
     "data": {
      "text/plain": [
       "3"
      ]
     },
     "execution_count": 11,
     "metadata": {},
     "output_type": "execute_result"
    }
   ],
   "source": [
    "np.linalg.matrix_rank(A1)"
   ]
  },
  {
   "cell_type": "code",
   "execution_count": 12,
   "metadata": {},
   "outputs": [
    {
     "data": {
      "text/plain": [
       "4"
      ]
     },
     "execution_count": 12,
     "metadata": {},
     "output_type": "execute_result"
    }
   ],
   "source": [
    "np.linalg.matrix_rank(A2)"
   ]
  },
  {
   "cell_type": "markdown",
   "metadata": {},
   "source": [
    "**Центрування даних може змінити ранг матриці!**"
   ]
  },
  {
   "cell_type": "markdown",
   "metadata": {},
   "source": [
    "---\n",
    "\n",
    "Пошук перпендикулярних векторів"
   ]
  },
  {
   "cell_type": "markdown",
   "metadata": {},
   "source": [
    "1. через алг доповнення"
   ]
  },
  {
   "cell_type": "code",
   "execution_count": 14,
   "metadata": {},
   "outputs": [
    {
     "data": {
      "text/plain": [
       "array([[ 27., -23.,  30.,  17., -30.],\n",
       "       [ 32.,  43., -12.,  17.,  33.],\n",
       "       [ 37., -49., -48.,  10., -11.]])"
      ]
     },
     "execution_count": 14,
     "metadata": {},
     "output_type": "execute_result"
    }
   ],
   "source": [
    "A = np.floor(np.random.rand(3,5)*100 - 50)\n",
    "A"
   ]
  },
  {
   "cell_type": "code",
   "execution_count": 15,
   "metadata": {},
   "outputs": [
    {
     "data": {
      "text/plain": [
       "(array([[ 2.7000e+01, -2.3000e+01,  3.0000e+01,  1.7000e+01, -3.0000e+01],\n",
       "        [ 3.2000e+01,  4.3000e+01, -1.2000e+01,  1.7000e+01,  3.3000e+01],\n",
       "        [ 3.7000e+01, -4.9000e+01, -4.8000e+01,  1.0000e+01, -1.1000e+01],\n",
       "        [ 0.0000e+00, -6.5562e+04, -4.5447e+04,  5.7720e+03, -9.8982e+04]]),\n",
       " 4)"
      ]
     },
     "execution_count": 15,
     "metadata": {},
     "output_type": "execute_result"
    }
   ],
   "source": [
    "a1 = np.linalg.det(A[:, (1,2,3)])\n",
    "a2 = np.linalg.det(A[:, (1,2,4)])\n",
    "a3 = np.linalg.det(A[:, (1,3,4)])\n",
    "a4 = np.linalg.det(A[:, (2,3,4)])\n",
    "a5 = 0\n",
    "r = np.array([a5,a4,a3,a2,a1])\n",
    "A1 = np.vstack([A,r])\n",
    "A1, np.linalg.matrix_rank(A1)"
   ]
  },
  {
   "cell_type": "code",
   "execution_count": 16,
   "metadata": {},
   "outputs": [
    {
     "data": {
      "text/plain": [
       "(array([[ 2.70000000e+01, -2.30000000e+01,  3.00000000e+01,\n",
       "          1.70000000e+01, -3.00000000e+01],\n",
       "        [ 3.20000000e+01,  4.30000000e+01, -1.20000000e+01,\n",
       "          1.70000000e+01,  3.30000000e+01],\n",
       "        [ 3.70000000e+01, -4.90000000e+01, -4.80000000e+01,\n",
       "          1.00000000e+01, -1.10000000e+01],\n",
       "        [ 0.00000000e+00, -6.55620000e+04, -4.54470000e+04,\n",
       "          5.77200000e+03, -9.89820000e+04],\n",
       "        [ 7.53117431e+09, -2.67122798e+09,  6.81464226e+08,\n",
       "          1.47413148e+10, -2.94183208e+09]]),\n",
       " 5)"
      ]
     },
     "execution_count": 16,
     "metadata": {},
     "output_type": "execute_result"
    }
   ],
   "source": [
    "a1 = np.linalg.det(A1[:, (0,1,2,3)])\n",
    "a2 = np.linalg.det(A1[:, (0,1,2,4)])\n",
    "a3 = np.linalg.det(A1[:, (0,1,3,4)])\n",
    "a4 = np.linalg.det(A1[:, (0,2,3,4)])\n",
    "a5 = np.linalg.det(A1[:, (1,2,3,4)])\n",
    "r = np.array([a5,a4,a3,a2,a1])\n",
    "A2 = np.vstack([A1,r])\n",
    "A2, np.linalg.matrix_rank(A2)"
   ]
  },
  {
   "cell_type": "markdown",
   "metadata": {},
   "source": [
    "2. через фундаментальну систему розв'язків (todo)"
   ]
  },
  {
   "cell_type": "markdown",
   "metadata": {},
   "source": [
    "---"
   ]
  },
  {
   "cell_type": "markdown",
   "metadata": {},
   "source": [
    "метод якобі пошуку оберненої матриці"
   ]
  },
  {
   "cell_type": "markdown",
   "metadata": {},
   "source": []
  }
 ],
 "metadata": {
  "kernelspec": {
   "display_name": "sci",
   "language": "python",
   "name": "python3"
  },
  "language_info": {
   "codemirror_mode": {
    "name": "ipython",
    "version": 3
   },
   "file_extension": ".py",
   "mimetype": "text/x-python",
   "name": "python",
   "nbconvert_exporter": "python",
   "pygments_lexer": "ipython3",
   "version": "3.11.0"
  },
  "orig_nbformat": 4
 },
 "nbformat": 4,
 "nbformat_minor": 2
}
