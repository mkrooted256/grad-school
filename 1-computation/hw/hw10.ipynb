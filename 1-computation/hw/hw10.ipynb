{
 "cells": [
  {
   "cell_type": "markdown",
   "metadata": {},
   "source": [
    "# Практика 10\n",
    "Корешков\n",
    "\n",
    "```\n",
    "H/W\n",
    "10)\n",
    "Розв’язати задачу Коші методами Ейлера і Рунге-Кутта на відрізку\n",
    "[0,2;1,2] із кроком τ=0,1 при початковій умові y(0,2)=0,25:\n",
    "1) Корешков Михайло   \n",
    "y'=0,145*(x^2+cos(0,5*x))+0,842*y\n",
    "```"
   ]
  },
  {
   "cell_type": "markdown",
   "metadata": {},
   "source": []
  }
 ],
 "metadata": {
  "kernelspec": {
   "display_name": "sci",
   "language": "python",
   "name": "python3"
  },
  "language_info": {
   "name": "python",
   "version": "3.12.0"
  }
 },
 "nbformat": 4,
 "nbformat_minor": 2
}
