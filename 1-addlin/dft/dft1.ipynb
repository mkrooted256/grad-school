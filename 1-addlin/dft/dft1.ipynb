{
 "cells": [
  {
   "cell_type": "code",
   "execution_count": 2,
   "metadata": {},
   "outputs": [],
   "source": [
    "import numpy as np\n",
    "import sympy as sym\n",
    "import scipy as sp"
   ]
  },
  {
   "cell_type": "code",
   "execution_count": 10,
   "metadata": {},
   "outputs": [
    {
     "data": {
      "text/plain": [
       "array([[ 1.+0.j,  1.+0.j,  1.+0.j,  1.+0.j],\n",
       "       [ 1.+0.j,  0.-1.j, -1.-0.j, -0.+1.j],\n",
       "       [ 1.+0.j, -1.-0.j,  1.+0.j, -1.-0.j],\n",
       "       [ 1.+0.j, -0.+1.j, -1.-0.j,  0.-1.j]])"
      ]
     },
     "execution_count": 10,
     "metadata": {},
     "output_type": "execute_result"
    }
   ],
   "source": [
    "sp.linalg.dft(4).round(2)"
   ]
  },
  {
   "cell_type": "code",
   "execution_count": 11,
   "metadata": {},
   "outputs": [],
   "source": [
    "def U(n):\n",
    "    return sp.linalg.dft(n)"
   ]
  },
  {
   "cell_type": "code",
   "execution_count": 15,
   "metadata": {},
   "outputs": [
    {
     "data": {
      "text/plain": [
       "array([a, b, a, b, a, b, a, b], dtype=object)"
      ]
     },
     "execution_count": 15,
     "metadata": {},
     "output_type": "execute_result"
    }
   ],
   "source": [
    "a,b = sym.symbols('a b')\n",
    "def seq(n):\n",
    "    x = [a,b] * n\n",
    "    return np.array(x)\n",
    "seq(4)"
   ]
  },
  {
   "cell_type": "code",
   "execution_count": 25,
   "metadata": {},
   "outputs": [
    {
     "data": {
      "text/latex": [
       "$\\displaystyle \\left[\\begin{matrix}3.0 b + 12.0 & 0 & 0 & 12.0 - 3.0 b & 0 & 0\\end{matrix}\\right]$"
      ],
      "text/plain": [
       "[3.0*b + 12.0, 0, 0, 12.0 - 3.0*b, 0, 0]"
      ]
     },
     "execution_count": 25,
     "metadata": {},
     "output_type": "execute_result"
    }
   ],
   "source": [
    "x = seq(3)\n",
    "X = sym.simplify(U(6).round(4) @ x)\n",
    "X"
   ]
  },
  {
   "cell_type": "code",
   "execution_count": 37,
   "metadata": {},
   "outputs": [],
   "source": [
    "def test_ab(n):\n",
    "    X = sym.simplify(U(2*n) @ seq(n))\n",
    "    ex2 = X\n",
    "    for a in sym.preorder_traversal(X):\n",
    "        if isinstance(a, sym.Float):\n",
    "            ex2 = ex2.subs(a, round(a, 5))\n",
    "    return ex2"
   ]
  },
  {
   "cell_type": "code",
   "execution_count": 40,
   "metadata": {},
   "outputs": [
    {
     "data": {
      "text/latex": [
       "$\\displaystyle \\left[\\begin{array}{}8.0 b + 32.0 & 0 & 0 & 0 & 0 & 0 & 0 & 0 & 32.0 - 8.0 b & 0 & 0.0 & 0 & 0 & 0 & 0.0 & 0\\end{array}\\right]$"
      ],
      "text/plain": [
       "[8.0*b + 32.0, 0, 0, 0, 0, 0, 0, 0, 32.0 - 8.0*b, 0, 0.0, 0, 0, 0, 0.0, 0]"
      ]
     },
     "execution_count": 40,
     "metadata": {},
     "output_type": "execute_result"
    }
   ],
   "source": [
    "test_ab(8)"
   ]
  },
  {
   "cell_type": "markdown",
   "metadata": {},
   "source": [
    "---"
   ]
  },
  {
   "cell_type": "code",
   "execution_count": 48,
   "metadata": {},
   "outputs": [
    {
     "data": {
      "text/plain": [
       "[1, exp(I*pi/3), exp(2*I*pi/3), -1, exp(-2*I*pi/3), exp(-I*pi/3)]"
      ]
     },
     "execution_count": 48,
     "metadata": {},
     "output_type": "execute_result"
    }
   ],
   "source": [
    "def one_roots(n, as_exp=False):\n",
    "    w0 = sym.exp(2*sym.pi*sym.I / n)\n",
    "    w = [] \n",
    "    for i in range(n):\n",
    "        if as_exp:\n",
    "            w.append(w0**i)\n",
    "        else:\n",
    "            w.append(sym.expand_complex(w0**i))\n",
    "    return w\n",
    "\n",
    "a = one_roots(6, True)\n",
    "a"
   ]
  },
  {
   "cell_type": "code",
   "execution_count": 93,
   "metadata": {},
   "outputs": [
    {
     "data": {
      "text/latex": [
       "$\\displaystyle \\left[\\begin{matrix}1 & 1 & 1 & 1 & 1 & 1\\\\1 & e^{\\frac{i \\pi}{3}} & e^{\\frac{2 i \\pi}{3}} & -1 & e^{- \\frac{2 i \\pi}{3}} & e^{- \\frac{i \\pi}{3}}\\\\1 & e^{\\frac{2 i \\pi}{3}} & e^{- \\frac{2 i \\pi}{3}} & 1 & e^{\\frac{2 i \\pi}{3}} & e^{- \\frac{2 i \\pi}{3}}\\\\1 & -1 & 1 & -1 & 1 & -1\\\\1 & e^{- \\frac{2 i \\pi}{3}} & e^{\\frac{2 i \\pi}{3}} & 1 & e^{- \\frac{2 i \\pi}{3}} & e^{\\frac{2 i \\pi}{3}}\\\\1 & e^{- \\frac{i \\pi}{3}} & e^{- \\frac{2 i \\pi}{3}} & -1 & e^{\\frac{2 i \\pi}{3}} & e^{\\frac{i \\pi}{3}}\\end{matrix}\\right]$"
      ],
      "text/plain": [
       "Matrix([\n",
       "[1,              1,              1,  1,              1,              1],\n",
       "[1,    exp(I*pi/3),  exp(2*I*pi/3), -1, exp(-2*I*pi/3),   exp(-I*pi/3)],\n",
       "[1,  exp(2*I*pi/3), exp(-2*I*pi/3),  1,  exp(2*I*pi/3), exp(-2*I*pi/3)],\n",
       "[1,             -1,              1, -1,              1,             -1],\n",
       "[1, exp(-2*I*pi/3),  exp(2*I*pi/3),  1, exp(-2*I*pi/3),  exp(2*I*pi/3)],\n",
       "[1,   exp(-I*pi/3), exp(-2*I*pi/3), -1,  exp(2*I*pi/3),    exp(I*pi/3)]])"
      ]
     },
     "execution_count": 93,
     "metadata": {},
     "output_type": "execute_result"
    }
   ],
   "source": [
    "def Fs(n, as_exp=False, normed=True):\n",
    "    w = one_roots(n, as_exp=as_exp)\n",
    "    F = []\n",
    "    F.append([1]*n)\n",
    "    for i in range(1,n):\n",
    "        Frow = []\n",
    "        for j in range(n):\n",
    "            Frow.append(w[j*i % n])\n",
    "        F.append(Frow)\n",
    "    if normed:\n",
    "        return (sym.Matrix(F) / sym.sqrt(n))\n",
    "    return sym.Matrix(F)\n",
    "\n",
    "F6 = Fs(6, as_exp=True, normed=False)\n",
    "F6"
   ]
  },
  {
   "cell_type": "code",
   "execution_count": 81,
   "metadata": {},
   "outputs": [
    {
     "data": {
      "text/latex": [
       "$\\displaystyle \\left[\\begin{matrix}14 & 7 & 7 & 7 & 7 & 7\\\\7 & \\frac{9}{2} - \\frac{5 \\sqrt{3} i}{2} & - \\frac{7}{2} - \\frac{5 \\sqrt{3} i}{2} & -7 & - \\frac{7}{2} + \\frac{5 \\sqrt{3} i}{2} & \\frac{19}{2} + \\frac{5 \\sqrt{3} i}{2}\\\\7 & - \\frac{7}{2} - \\frac{5 \\sqrt{3} i}{2} & - \\frac{5}{2} + \\frac{5 \\sqrt{3} i}{2} & 7 & \\frac{5}{2} - \\frac{5 \\sqrt{3} i}{2} & - \\frac{7}{2} + \\frac{5 \\sqrt{3} i}{2}\\\\7 & -7 & 7 & 0 & 7 & -7\\\\7 & - \\frac{7}{2} + \\frac{5 \\sqrt{3} i}{2} & \\frac{5}{2} - \\frac{5 \\sqrt{3} i}{2} & 7 & - \\frac{5}{2} + \\frac{5 \\sqrt{3} i}{2} & - \\frac{7}{2} - \\frac{5 \\sqrt{3} i}{2}\\\\7 & \\frac{19}{2} + \\frac{5 \\sqrt{3} i}{2} & - \\frac{7}{2} + \\frac{5 \\sqrt{3} i}{2} & -7 & - \\frac{7}{2} - \\frac{5 \\sqrt{3} i}{2} & \\frac{9}{2} - \\frac{5 \\sqrt{3} i}{2}\\end{matrix}\\right]$"
      ],
      "text/plain": [
       "Matrix([\n",
       "[14,                    7,                    7,  7,                    7,                    7],\n",
       "[ 7,  9/2 - 5*sqrt(3)*I/2, -7/2 - 5*sqrt(3)*I/2, -7, -7/2 + 5*sqrt(3)*I/2, 19/2 + 5*sqrt(3)*I/2],\n",
       "[ 7, -7/2 - 5*sqrt(3)*I/2, -5/2 + 5*sqrt(3)*I/2,  7,  5/2 - 5*sqrt(3)*I/2, -7/2 + 5*sqrt(3)*I/2],\n",
       "[ 7,                   -7,                    7,  0,                    7,                   -7],\n",
       "[ 7, -7/2 + 5*sqrt(3)*I/2,  5/2 - 5*sqrt(3)*I/2,  7, -5/2 + 5*sqrt(3)*I/2, -7/2 - 5*sqrt(3)*I/2],\n",
       "[ 7, 19/2 + 5*sqrt(3)*I/2, -7/2 + 5*sqrt(3)*I/2, -7, -7/2 - 5*sqrt(3)*I/2,  9/2 - 5*sqrt(3)*I/2]])"
      ]
     },
     "execution_count": 81,
     "metadata": {},
     "output_type": "execute_result"
    }
   ],
   "source": [
    "sym.expand_complex(sym.eye(6) + F6 + F6**2 + F6**3)"
   ]
  },
  {
   "cell_type": "markdown",
   "metadata": {},
   "source": [
    "---"
   ]
  },
  {
   "cell_type": "code",
   "execution_count": 83,
   "metadata": {},
   "outputs": [
    {
     "data": {
      "text/plain": [
       "[1,\n",
       " 1/2 + sqrt(3)*I/2,\n",
       " -1/2 + sqrt(3)*I/2,\n",
       " -1,\n",
       " -1/2 - sqrt(3)*I/2,\n",
       " 1/2 - sqrt(3)*I/2]"
      ]
     },
     "execution_count": 83,
     "metadata": {},
     "output_type": "execute_result"
    }
   ],
   "source": [
    "w = one_roots(6)\n",
    "w"
   ]
  },
  {
   "cell_type": "markdown",
   "metadata": {},
   "source": [
    "## Лекція 6, Пункт 6, Задача 3\n",
    "\n",
    "$F_6 \\cdot (2,1,-1,0,-1,1)$"
   ]
  },
  {
   "cell_type": "code",
   "execution_count": 99,
   "metadata": {},
   "outputs": [
    {
     "data": {
      "text/latex": [
       "$\\displaystyle \\left[\\begin{matrix}\\frac{\\sqrt{6}}{3}\\\\\\frac{2 \\sqrt{6}}{3}\\\\\\frac{\\sqrt{6}}{3}\\\\- \\frac{\\sqrt{6}}{3}\\\\\\frac{\\sqrt{6}}{3}\\\\\\frac{2 \\sqrt{6}}{3}\\end{matrix}\\right]$"
      ],
      "text/plain": [
       "Matrix([\n",
       "[  sqrt(6)/3],\n",
       "[2*sqrt(6)/3],\n",
       "[  sqrt(6)/3],\n",
       "[ -sqrt(6)/3],\n",
       "[  sqrt(6)/3],\n",
       "[2*sqrt(6)/3]])"
      ]
     },
     "execution_count": 99,
     "metadata": {},
     "output_type": "execute_result"
    }
   ],
   "source": [
    "sym.simplify(Fs(6,normed=False) @ sym.Matrix([2,1,-1,0,-1,1]))/sym.sqrt(6)"
   ]
  },
  {
   "cell_type": "markdown",
   "metadata": {},
   "source": []
  }
 ],
 "metadata": {
  "kernelspec": {
   "display_name": "sci",
   "language": "python",
   "name": "python3"
  },
  "language_info": {
   "codemirror_mode": {
    "name": "ipython",
    "version": 3
   },
   "file_extension": ".py",
   "mimetype": "text/x-python",
   "name": "python",
   "nbconvert_exporter": "python",
   "pygments_lexer": "ipython3",
   "version": "3.11.0"
  }
 },
 "nbformat": 4,
 "nbformat_minor": 2
}
