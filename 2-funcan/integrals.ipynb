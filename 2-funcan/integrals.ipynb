{
 "cells": [
  {
   "cell_type": "code",
   "execution_count": 5,
   "metadata": {},
   "outputs": [
    {
     "data": {
      "text/plain": [
       "'1.12'"
      ]
     },
     "execution_count": 5,
     "metadata": {},
     "output_type": "execute_result"
    }
   ],
   "source": [
    "import numpy as np\n",
    "import scipy as sp\n",
    "import sympy as sym\n",
    "sym.__version__"
   ]
  },
  {
   "cell_type": "code",
   "execution_count": 51,
   "metadata": {},
   "outputs": [
    {
     "data": {
      "text/latex": [
       "$\\displaystyle \\left(x^{n} - x^{m + n}\\right)^{2}$"
      ],
      "text/plain": [
       "(x**n - x**(m + n))**2"
      ]
     },
     "execution_count": 51,
     "metadata": {},
     "output_type": "execute_result"
    }
   ],
   "source": [
    "x = sym.symbols('x', real=True, nonnegative=True)\n",
    "n,m = sym.symbols('n,m', integer=True, nonnegative=True)\n",
    "f = (x ** n - x**(m+n))**2\n",
    "f"
   ]
  },
  {
   "cell_type": "code",
   "execution_count": 52,
   "metadata": {},
   "outputs": [
    {
     "data": {
      "text/latex": [
       "$\\displaystyle \\frac{2 m^{2}}{4 m^{2} n + 2 m^{2} + 12 m n^{2} + 12 m n + 3 m + 8 n^{3} + 12 n^{2} + 6 n + 1}$"
      ],
      "text/plain": [
       "2*m**2/(4*m**2*n + 2*m**2 + 12*m*n**2 + 12*m*n + 3*m + 8*n**3 + 12*n**2 + 6*n + 1)"
      ]
     },
     "execution_count": 52,
     "metadata": {},
     "output_type": "execute_result"
    }
   ],
   "source": [
    "A = sym.integrate(f, (x,0,1)); A"
   ]
  },
  {
   "cell_type": "code",
   "execution_count": 50,
   "metadata": {},
   "outputs": [
    {
     "ename": "IndexError",
     "evalue": "list index out of range",
     "output_type": "error",
     "traceback": [
      "\u001b[1;31m---------------------------------------------------------------------------\u001b[0m",
      "\u001b[1;31mIndexError\u001b[0m                                Traceback (most recent call last)",
      "Cell \u001b[1;32mIn[50], line 1\u001b[0m\n\u001b[1;32m----> 1\u001b[0m B \u001b[38;5;241m=\u001b[39m A\u001b[38;5;241m.\u001b[39mas_ordered_factors()[\u001b[38;5;241m2\u001b[39m]; \u001b[38;5;28mtype\u001b[39m(B), B\n",
      "\u001b[1;31mIndexError\u001b[0m: list index out of range"
     ]
    }
   ],
   "source": [
    "B = A.as_ordered_factors()[2]; type(B), B"
   ]
  },
  {
   "cell_type": "code",
   "execution_count": 33,
   "metadata": {},
   "outputs": [
    {
     "data": {
      "text/latex": [
       "$\\displaystyle 4 m^{2} n + 2 m^{2} + 12 m n^{2} + 12 m n + 3 m + 8 n^{3} + 12 n^{2} + 6 n + 1$"
      ],
      "text/plain": [
       "4*m**2*n + 2*m**2 + 12*m*n**2 + 12*m*n + 3*m + 8*n**3 + 12*n**2 + 6*n + 1"
      ]
     },
     "execution_count": 33,
     "metadata": {},
     "output_type": "execute_result"
    }
   ],
   "source": [
    "B.base"
   ]
  },
  {
   "cell_type": "code",
   "execution_count": 36,
   "metadata": {},
   "outputs": [
    {
     "data": {
      "text/latex": [
       "$\\displaystyle m^{2} \\cdot \\left(4 n + 2\\right) + m \\left(12 n^{2} + 12 n + 3\\right) + 8 n^{3} + 12 n^{2} + 6 n + 1$"
      ],
      "text/plain": [
       "m**2*(4*n + 2) + m*(12*n**2 + 12*n + 3) + 8*n**3 + 12*n**2 + 6*n + 1"
      ]
     },
     "execution_count": 36,
     "metadata": {},
     "output_type": "execute_result"
    }
   ],
   "source": [
    "B.base.collect(m)"
   ]
  },
  {
   "cell_type": "code",
   "execution_count": 38,
   "metadata": {},
   "outputs": [
    {
     "data": {
      "text/latex": [
       "$\\displaystyle - \\frac{2}{m + n + 1} + \\frac{1}{2 n + 1} + \\frac{1}{2 m + 1}$"
      ],
      "text/plain": [
       "-2/(m + n + 1) + 1/(2*n + 1) + 1/(2*m + 1)"
      ]
     },
     "execution_count": 38,
     "metadata": {},
     "output_type": "execute_result"
    }
   ],
   "source": [
    "C = 1/(2*n+1) + 1/(2*m+1)-2/(n+m+1); C"
   ]
  },
  {
   "cell_type": "code",
   "execution_count": 47,
   "metadata": {},
   "outputs": [
    {
     "data": {
      "text/latex": [
       "$\\displaystyle \\frac{2 \\left(m^{2} - 2 m n + n^{2}\\right)}{4 m^{2} n + 2 m^{2} + 4 m n^{2} + 8 m n + 3 m + 2 n^{2} + 3 n + 1}$"
      ],
      "text/plain": [
       "2*(m**2 - 2*m*n + n**2)/(4*m**2*n + 2*m**2 + 4*m*n**2 + 8*m*n + 3*m + 2*n**2 + 3*n + 1)"
      ]
     },
     "execution_count": 47,
     "metadata": {},
     "output_type": "execute_result"
    }
   ],
   "source": [
    "C.together().expand().simplify()"
   ]
  },
  {
   "cell_type": "code",
   "execution_count": 55,
   "metadata": {},
   "outputs": [
    {
     "data": {
      "text/latex": [
       "$\\displaystyle \\frac{2 \\left(m^{2} - 2 m n + n^{2}\\right)}{4 m^{2} n + 2 m^{2} + 4 m n^{2} + 8 m n + 3 m + 2 n^{2} + 3 n + 1}$"
      ],
      "text/plain": [
       "2*(m**2 - 2*m*n + n**2)/(4*m**2*n + 2*m**2 + 4*m*n**2 + 8*m*n + 3*m + 2*n**2 + 3*n + 1)"
      ]
     },
     "execution_count": 55,
     "metadata": {},
     "output_type": "execute_result"
    }
   ],
   "source": [
    "sym.integrate((x**n - x**m)**2, (x,0,1)).simplify()"
   ]
  }
 ],
 "metadata": {
  "kernelspec": {
   "display_name": "sci",
   "language": "python",
   "name": "python3"
  },
  "language_info": {
   "codemirror_mode": {
    "name": "ipython",
    "version": 3
   },
   "file_extension": ".py",
   "mimetype": "text/x-python",
   "name": "python",
   "nbconvert_exporter": "python",
   "pygments_lexer": "ipython3",
   "version": "3.11.0"
  }
 },
 "nbformat": 4,
 "nbformat_minor": 2
}
